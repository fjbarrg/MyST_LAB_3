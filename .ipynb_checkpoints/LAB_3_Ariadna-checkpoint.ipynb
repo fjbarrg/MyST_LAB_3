{
 "cells": [
  {
   "cell_type": "markdown",
   "metadata": {},
   "source": [
    "<img src=\"http://oci02.img.iteso.mx/identidad_de_instancia_2018/ITESO/Logos%20ITESO/Logo-ITESO-Principal.jpg\">"
   ]
  },
  {
   "cell_type": "markdown",
   "metadata": {},
   "source": [
    "# Laboratorio 3: Behavioral Finance\n",
    "\n",
    "## Elaborado por:\n",
    "Ariadna Desirée Galindo Marín \n",
    "Francisco Javier Barragán (?)\n",
    "\n",
    "## Otoño 2021\n",
    "\n",
    "Repositorio: <a href='https://github.com/ariadnagalindom/MyST_LAB_3'>Link</a></font>"
   ]
  },
  {
   "cell_type": "markdown",
   "metadata": {},
   "source": [
    "# 0. Librerias y dependencias\n",
    "\n",
    "## 0.1 \n",
    "Requirements necesarios para correr el cuaderno:\n"
   ]
  },
  {
   "cell_type": "code",
   "execution_count": 1,
   "metadata": {},
   "outputs": [
    {
     "ename": "ModuleNotFoundError",
     "evalue": "No module named 'functions'",
     "output_type": "error",
     "traceback": [
      "\u001b[1;31m---------------------------------------------------------------------------\u001b[0m",
      "\u001b[1;31mModuleNotFoundError\u001b[0m                       Traceback (most recent call last)",
      "\u001b[1;32m~\\AppData\\Local\\Temp/ipykernel_7448/3368842225.py\u001b[0m in \u001b[0;36m<module>\u001b[1;34m\u001b[0m\n\u001b[0;32m      1\u001b[0m \u001b[1;31m#importamos librerias\u001b[0m\u001b[1;33m\u001b[0m\u001b[1;33m\u001b[0m\u001b[0m\n\u001b[1;32m----> 2\u001b[1;33m \u001b[1;32mimport\u001b[0m \u001b[0mfunctions\u001b[0m \u001b[1;32mas\u001b[0m \u001b[0mf\u001b[0m\u001b[1;33m\u001b[0m\u001b[1;33m\u001b[0m\u001b[0m\n\u001b[0m\u001b[0;32m      3\u001b[0m \u001b[1;32mimport\u001b[0m \u001b[0mpandas\u001b[0m \u001b[1;32mas\u001b[0m \u001b[0mpd\u001b[0m\u001b[1;33m\u001b[0m\u001b[1;33m\u001b[0m\u001b[0m\n\u001b[0;32m      4\u001b[0m \u001b[1;32mimport\u001b[0m \u001b[0mnumpy\u001b[0m \u001b[1;32mas\u001b[0m \u001b[0mnp\u001b[0m\u001b[1;33m\u001b[0m\u001b[1;33m\u001b[0m\u001b[0m\n\u001b[0;32m      5\u001b[0m \u001b[1;32mimport\u001b[0m \u001b[0mimportlib\u001b[0m\u001b[1;33m\u001b[0m\u001b[1;33m\u001b[0m\u001b[0m\n",
      "\u001b[1;31mModuleNotFoundError\u001b[0m: No module named 'functions'"
     ]
    }
   ],
   "source": [
    "#importamos librerias \n",
    "import functions as f\n",
    "import pandas as pd\n",
    "import numpy as np\n",
    "import importlib"
   ]
  },
  {
   "cell_type": "code",
   "execution_count": 2,
   "metadata": {},
   "outputs": [
    {
     "data": {
      "text/plain": [
       "<module 'functions' from 'c:\\\\Users\\\\ariad\\\\OneDrive\\\\Documentos\\\\GitHub\\\\MyST_LAB_3\\\\functions.py'>"
      ]
     },
     "execution_count": 2,
     "metadata": {},
     "output_type": "execute_result"
    }
   ],
   "source": [
    "# correr cada que haya cualquier mínimo cambio en functions.py\n",
    "importlib.reload(f)"
   ]
  },
  {
   "cell_type": "markdown",
   "metadata": {},
   "source": [
    "## 0.2 Dependencias\n",
    "\n",
    "* '\\files\\cuentas.csv' -- Archivo con las credenciales de los integrantes del equipo. \n",
    "* -- Archivo con los datos del '^S&P500'"
   ]
  },
  {
   "cell_type": "markdown",
   "metadata": {},
   "source": [
    "# 1. Introducción \n",
    "\n",
    "En el siguiente laboratorio se realizó un análisis minucioso sobre el tema del Behavioral Finance y lo que comprende, así como las métricas de atribución al desempeño, la aversión a la pérdida y todos los conceptos claves que le dan significado al labortorio. \n",
    "\n",
    "Uno de los conocimientos mpas rescatables de esta actividad es el apoyo que tuvimos que realizar con la herramienta de Meta Trader para obtener la cantidad de operaciones realizadas, de manera ficticia, en la bolsa; ya que sin estas, el laboratorio no se hubiera podido realizar.\n"
   ]
  },
  {
   "cell_type": "markdown",
   "metadata": {},
   "source": [
    "# 2. Objetivos\n",
    "## 2.1 General\n",
    "\n",
    "Elaborar herramientas para el análisis del desempeño de una actividad de trading tanto del punto de vista del trader como del punto de vista de la cuenta. \n",
    "## 2.2 Específicos \n",
    "\n",
    "* Analizar los resultados de la práctica pasada.\n",
    "* Descargar el histórico de la práctica pasada.\n",
    "* Comparar resultados con el índice S&P500.\n",
    "* Obtener los pips de cada operación.\n",
    "* Calcular diferentes estadísticas descriptivas. \n",
    "* Presentar la información en DataFrame."
   ]
  },
  {
   "cell_type": "markdown",
   "metadata": {},
   "source": [
    "# 3. Datos utilizados \n",
    "### 3.1 Estadística Descriptiva\n",
    "\n",
    "Se descargan los históricos de MetaTrader5 del laboratorio anterior, se debe repetir el proceso con todos los integrantes del equipo. Por eso el documento 'cuentas.csv' tiene las credenciales de todos los integrantes del equipo. "
   ]
  },
  {
   "cell_type": "code",
   "execution_count": 3,
   "metadata": {},
   "outputs": [
    {
     "name": "stdout",
     "output_type": "stream",
     "text": [
      "Los nombres son: ['Ariadna', 'Javier']\n",
      "Se inició sesión con éxito\n"
     ]
    },
    {
     "data": {
      "text/html": [
       "<div>\n",
       "<style scoped>\n",
       "    .dataframe tbody tr th:only-of-type {\n",
       "        vertical-align: middle;\n",
       "    }\n",
       "\n",
       "    .dataframe tbody tr th {\n",
       "        vertical-align: top;\n",
       "    }\n",
       "\n",
       "    .dataframe thead th {\n",
       "        text-align: right;\n",
       "    }\n",
       "</style>\n",
       "<table border=\"1\" class=\"dataframe\">\n",
       "  <thead>\n",
       "    <tr style=\"text-align: right;\">\n",
       "      <th></th>\n",
       "      <th>Position</th>\n",
       "      <th>Time</th>\n",
       "      <th>Symbol</th>\n",
       "      <th>Type</th>\n",
       "      <th>Volume</th>\n",
       "      <th>Price</th>\n",
       "      <th>Time.1</th>\n",
       "      <th>Price.1</th>\n",
       "      <th>Commission</th>\n",
       "      <th>Swap</th>\n",
       "      <th>Profit</th>\n",
       "    </tr>\n",
       "  </thead>\n",
       "  <tbody>\n",
       "    <tr>\n",
       "      <th>0</th>\n",
       "      <td>45386461</td>\n",
       "      <td>1631894124</td>\n",
       "      <td>EURUSD</td>\n",
       "      <td>buy</td>\n",
       "      <td>0.01</td>\n",
       "      <td>1.17766</td>\n",
       "      <td>1631894254</td>\n",
       "      <td>1.17755</td>\n",
       "      <td>0.0</td>\n",
       "      <td>0.00</td>\n",
       "      <td>-0.11</td>\n",
       "    </tr>\n",
       "    <tr>\n",
       "      <th>1</th>\n",
       "      <td>45429899</td>\n",
       "      <td>1632191036</td>\n",
       "      <td>USDCHF</td>\n",
       "      <td>buy</td>\n",
       "      <td>0.01</td>\n",
       "      <td>0.92800</td>\n",
       "      <td>1632238413</td>\n",
       "      <td>0.92410</td>\n",
       "      <td>0.0</td>\n",
       "      <td>0.00</td>\n",
       "      <td>-4.22</td>\n",
       "    </tr>\n",
       "    <tr>\n",
       "      <th>2</th>\n",
       "      <td>45386539</td>\n",
       "      <td>1631894280</td>\n",
       "      <td>EURUSD</td>\n",
       "      <td>buy</td>\n",
       "      <td>0.01</td>\n",
       "      <td>1.17761</td>\n",
       "      <td>1632238423</td>\n",
       "      <td>1.17390</td>\n",
       "      <td>0.0</td>\n",
       "      <td>-0.20</td>\n",
       "      <td>-3.71</td>\n",
       "    </tr>\n",
       "    <tr>\n",
       "      <th>3</th>\n",
       "      <td>45441064</td>\n",
       "      <td>1632237416</td>\n",
       "      <td>CHFJPY</td>\n",
       "      <td>sell</td>\n",
       "      <td>0.02</td>\n",
       "      <td>118.37800</td>\n",
       "      <td>1632312458</td>\n",
       "      <td>118.80300</td>\n",
       "      <td>0.0</td>\n",
       "      <td>-0.02</td>\n",
       "      <td>-7.76</td>\n",
       "    </tr>\n",
       "    <tr>\n",
       "      <th>4</th>\n",
       "      <td>45481449</td>\n",
       "      <td>1632352281</td>\n",
       "      <td>GBPUSD</td>\n",
       "      <td>buy</td>\n",
       "      <td>10.00</td>\n",
       "      <td>1.36205</td>\n",
       "      <td>1632405627</td>\n",
       "      <td>1.36916</td>\n",
       "      <td>0.0</td>\n",
       "      <td>-36.10</td>\n",
       "      <td>7110.00</td>\n",
       "    </tr>\n",
       "    <tr>\n",
       "      <th>5</th>\n",
       "      <td>45429834</td>\n",
       "      <td>1632190443</td>\n",
       "      <td>USDJPY</td>\n",
       "      <td>buy</td>\n",
       "      <td>0.01</td>\n",
       "      <td>109.38800</td>\n",
       "      <td>1632413171</td>\n",
       "      <td>110.08300</td>\n",
       "      <td>0.0</td>\n",
       "      <td>-0.04</td>\n",
       "      <td>6.31</td>\n",
       "    </tr>\n",
       "    <tr>\n",
       "      <th>6</th>\n",
       "      <td>45496169</td>\n",
       "      <td>1632413422</td>\n",
       "      <td>EURGBP</td>\n",
       "      <td>buy</td>\n",
       "      <td>1.00</td>\n",
       "      <td>0.85562</td>\n",
       "      <td>1632443970</td>\n",
       "      <td>0.85529</td>\n",
       "      <td>0.0</td>\n",
       "      <td>-4.99</td>\n",
       "      <td>-45.27</td>\n",
       "    </tr>\n",
       "    <tr>\n",
       "      <th>7</th>\n",
       "      <td>45517257</td>\n",
       "      <td>1632498570</td>\n",
       "      <td>USDCHF</td>\n",
       "      <td>buy</td>\n",
       "      <td>1.00</td>\n",
       "      <td>0.92525</td>\n",
       "      <td>1632731734</td>\n",
       "      <td>0.92600</td>\n",
       "      <td>0.0</td>\n",
       "      <td>-1.05</td>\n",
       "      <td>80.99</td>\n",
       "    </tr>\n",
       "    <tr>\n",
       "      <th>8</th>\n",
       "      <td>45569766</td>\n",
       "      <td>1632843341</td>\n",
       "      <td>GBPUSD</td>\n",
       "      <td>buy</td>\n",
       "      <td>2.00</td>\n",
       "      <td>1.35652</td>\n",
       "      <td>1633478586</td>\n",
       "      <td>1.36266</td>\n",
       "      <td>0.0</td>\n",
       "      <td>-54.31</td>\n",
       "      <td>1228.00</td>\n",
       "    </tr>\n",
       "    <tr>\n",
       "      <th>9</th>\n",
       "      <td>45724035</td>\n",
       "      <td>1633478631</td>\n",
       "      <td>USDJPY</td>\n",
       "      <td>buy</td>\n",
       "      <td>2.00</td>\n",
       "      <td>111.47800</td>\n",
       "      <td>1633489280</td>\n",
       "      <td>111.52800</td>\n",
       "      <td>0.0</td>\n",
       "      <td>0.00</td>\n",
       "      <td>89.66</td>\n",
       "    </tr>\n",
       "    <tr>\n",
       "      <th>10</th>\n",
       "      <td>45725623</td>\n",
       "      <td>1633493541</td>\n",
       "      <td>EURGBP</td>\n",
       "      <td>sell</td>\n",
       "      <td>2.00</td>\n",
       "      <td>0.85096</td>\n",
       "      <td>1633493757</td>\n",
       "      <td>0.85128</td>\n",
       "      <td>0.0</td>\n",
       "      <td>0.00</td>\n",
       "      <td>-87.16</td>\n",
       "    </tr>\n",
       "    <tr>\n",
       "      <th>11</th>\n",
       "      <td>45749122</td>\n",
       "      <td>1633549011</td>\n",
       "      <td>EURGBP</td>\n",
       "      <td>sell</td>\n",
       "      <td>2.00</td>\n",
       "      <td>0.85114</td>\n",
       "      <td>1633574092</td>\n",
       "      <td>0.85030</td>\n",
       "      <td>0.0</td>\n",
       "      <td>-1.94</td>\n",
       "      <td>228.31</td>\n",
       "    </tr>\n",
       "    <tr>\n",
       "      <th>12</th>\n",
       "      <td>45749089</td>\n",
       "      <td>1633548903</td>\n",
       "      <td>DOW.N</td>\n",
       "      <td>sell</td>\n",
       "      <td>2.00</td>\n",
       "      <td>56.62000</td>\n",
       "      <td>1633625073</td>\n",
       "      <td>58.60000</td>\n",
       "      <td>0.0</td>\n",
       "      <td>-0.01</td>\n",
       "      <td>-3.96</td>\n",
       "    </tr>\n",
       "    <tr>\n",
       "      <th>13</th>\n",
       "      <td>45725601</td>\n",
       "      <td>1633493409</td>\n",
       "      <td>CHFJPY</td>\n",
       "      <td>buy</td>\n",
       "      <td>2.00</td>\n",
       "      <td>120.18300</td>\n",
       "      <td>1633626702</td>\n",
       "      <td>120.31000</td>\n",
       "      <td>0.0</td>\n",
       "      <td>-8.82</td>\n",
       "      <td>227.94</td>\n",
       "    </tr>\n",
       "    <tr>\n",
       "      <th>14</th>\n",
       "      <td>45768644</td>\n",
       "      <td>1633625381</td>\n",
       "      <td>USDJPY</td>\n",
       "      <td>buy</td>\n",
       "      <td>3.00</td>\n",
       "      <td>111.45100</td>\n",
       "      <td>1633634802</td>\n",
       "      <td>111.54000</td>\n",
       "      <td>0.0</td>\n",
       "      <td>0.00</td>\n",
       "      <td>239.38</td>\n",
       "    </tr>\n",
       "    <tr>\n",
       "      <th>15</th>\n",
       "      <td>45814397</td>\n",
       "      <td>1633969593</td>\n",
       "      <td>EURGBP</td>\n",
       "      <td>buy</td>\n",
       "      <td>5.00</td>\n",
       "      <td>0.84894</td>\n",
       "      <td>1633974354</td>\n",
       "      <td>0.84951</td>\n",
       "      <td>0.0</td>\n",
       "      <td>0.00</td>\n",
       "      <td>388.29</td>\n",
       "    </tr>\n",
       "    <tr>\n",
       "      <th>16</th>\n",
       "      <td>45815684</td>\n",
       "      <td>1633970485</td>\n",
       "      <td>DOW.N</td>\n",
       "      <td>sell</td>\n",
       "      <td>5.00</td>\n",
       "      <td>59.16000</td>\n",
       "      <td>1633979841</td>\n",
       "      <td>58.90000</td>\n",
       "      <td>0.0</td>\n",
       "      <td>0.00</td>\n",
       "      <td>1.30</td>\n",
       "    </tr>\n",
       "    <tr>\n",
       "      <th>17</th>\n",
       "      <td>45768493</td>\n",
       "      <td>1633625214</td>\n",
       "      <td>GBPUSD</td>\n",
       "      <td>sell</td>\n",
       "      <td>3.00</td>\n",
       "      <td>1.36014</td>\n",
       "      <td>1634002094</td>\n",
       "      <td>1.35953</td>\n",
       "      <td>0.0</td>\n",
       "      <td>-47.76</td>\n",
       "      <td>183.00</td>\n",
       "    </tr>\n",
       "    <tr>\n",
       "      <th>18</th>\n",
       "      <td>45824369</td>\n",
       "      <td>1634002131</td>\n",
       "      <td>GBPUSD</td>\n",
       "      <td>buy</td>\n",
       "      <td>5.00</td>\n",
       "      <td>1.35945</td>\n",
       "      <td>1634048975</td>\n",
       "      <td>1.36200</td>\n",
       "      <td>0.0</td>\n",
       "      <td>0.00</td>\n",
       "      <td>1275.00</td>\n",
       "    </tr>\n",
       "    <tr>\n",
       "      <th>19</th>\n",
       "      <td>45850663</td>\n",
       "      <td>1634106315</td>\n",
       "      <td>EURUSD</td>\n",
       "      <td>sell</td>\n",
       "      <td>2.00</td>\n",
       "      <td>1.15519</td>\n",
       "      <td>1634117511</td>\n",
       "      <td>1.15480</td>\n",
       "      <td>0.0</td>\n",
       "      <td>0.00</td>\n",
       "      <td>78.00</td>\n",
       "    </tr>\n",
       "    <tr>\n",
       "      <th>20</th>\n",
       "      <td>45876755</td>\n",
       "      <td>1634157434</td>\n",
       "      <td>AAL.O</td>\n",
       "      <td>buy</td>\n",
       "      <td>10.00</td>\n",
       "      <td>19.60000</td>\n",
       "      <td>1634250650</td>\n",
       "      <td>19.69000</td>\n",
       "      <td>0.0</td>\n",
       "      <td>-0.02</td>\n",
       "      <td>0.90</td>\n",
       "    </tr>\n",
       "    <tr>\n",
       "      <th>21</th>\n",
       "      <td>45824452</td>\n",
       "      <td>1634002339</td>\n",
       "      <td>BCHUSD</td>\n",
       "      <td>buy</td>\n",
       "      <td>2.00</td>\n",
       "      <td>602.15000</td>\n",
       "      <td>1634277864</td>\n",
       "      <td>611.91000</td>\n",
       "      <td>0.0</td>\n",
       "      <td>-1.96</td>\n",
       "      <td>19.52</td>\n",
       "    </tr>\n",
       "  </tbody>\n",
       "</table>\n",
       "</div>"
      ],
      "text/plain": [
       "    Position        Time  Symbol  Type  Volume      Price      Time.1  \\\n",
       "0   45386461  1631894124  EURUSD   buy    0.01    1.17766  1631894254   \n",
       "1   45429899  1632191036  USDCHF   buy    0.01    0.92800  1632238413   \n",
       "2   45386539  1631894280  EURUSD   buy    0.01    1.17761  1632238423   \n",
       "3   45441064  1632237416  CHFJPY  sell    0.02  118.37800  1632312458   \n",
       "4   45481449  1632352281  GBPUSD   buy   10.00    1.36205  1632405627   \n",
       "5   45429834  1632190443  USDJPY   buy    0.01  109.38800  1632413171   \n",
       "6   45496169  1632413422  EURGBP   buy    1.00    0.85562  1632443970   \n",
       "7   45517257  1632498570  USDCHF   buy    1.00    0.92525  1632731734   \n",
       "8   45569766  1632843341  GBPUSD   buy    2.00    1.35652  1633478586   \n",
       "9   45724035  1633478631  USDJPY   buy    2.00  111.47800  1633489280   \n",
       "10  45725623  1633493541  EURGBP  sell    2.00    0.85096  1633493757   \n",
       "11  45749122  1633549011  EURGBP  sell    2.00    0.85114  1633574092   \n",
       "12  45749089  1633548903   DOW.N  sell    2.00   56.62000  1633625073   \n",
       "13  45725601  1633493409  CHFJPY   buy    2.00  120.18300  1633626702   \n",
       "14  45768644  1633625381  USDJPY   buy    3.00  111.45100  1633634802   \n",
       "15  45814397  1633969593  EURGBP   buy    5.00    0.84894  1633974354   \n",
       "16  45815684  1633970485   DOW.N  sell    5.00   59.16000  1633979841   \n",
       "17  45768493  1633625214  GBPUSD  sell    3.00    1.36014  1634002094   \n",
       "18  45824369  1634002131  GBPUSD   buy    5.00    1.35945  1634048975   \n",
       "19  45850663  1634106315  EURUSD  sell    2.00    1.15519  1634117511   \n",
       "20  45876755  1634157434   AAL.O   buy   10.00   19.60000  1634250650   \n",
       "21  45824452  1634002339  BCHUSD   buy    2.00  602.15000  1634277864   \n",
       "\n",
       "      Price.1  Commission   Swap   Profit  \n",
       "0     1.17755         0.0   0.00    -0.11  \n",
       "1     0.92410         0.0   0.00    -4.22  \n",
       "2     1.17390         0.0  -0.20    -3.71  \n",
       "3   118.80300         0.0  -0.02    -7.76  \n",
       "4     1.36916         0.0 -36.10  7110.00  \n",
       "5   110.08300         0.0  -0.04     6.31  \n",
       "6     0.85529         0.0  -4.99   -45.27  \n",
       "7     0.92600         0.0  -1.05    80.99  \n",
       "8     1.36266         0.0 -54.31  1228.00  \n",
       "9   111.52800         0.0   0.00    89.66  \n",
       "10    0.85128         0.0   0.00   -87.16  \n",
       "11    0.85030         0.0  -1.94   228.31  \n",
       "12   58.60000         0.0  -0.01    -3.96  \n",
       "13  120.31000         0.0  -8.82   227.94  \n",
       "14  111.54000         0.0   0.00   239.38  \n",
       "15    0.84951         0.0   0.00   388.29  \n",
       "16   58.90000         0.0   0.00     1.30  \n",
       "17    1.35953         0.0 -47.76   183.00  \n",
       "18    1.36200         0.0   0.00  1275.00  \n",
       "19    1.15480         0.0   0.00    78.00  \n",
       "20   19.69000         0.0  -0.02     0.90  \n",
       "21  611.91000         0.0  -1.96    19.52  "
      ]
     },
     "execution_count": 3,
     "metadata": {},
     "output_type": "execute_result"
    }
   ],
   "source": [
    "historico_ariadna = f.f_leer_archivo()\n",
    "historico_ariadna"
   ]
  },
  {
   "cell_type": "code",
   "execution_count": 4,
   "metadata": {},
   "outputs": [
    {
     "name": "stdout",
     "output_type": "stream",
     "text": [
      "Los nombres son: ['Ariadna', 'Javier']\n",
      "Se inició sesión con éxito\n"
     ]
    },
    {
     "data": {
      "text/html": [
       "<div>\n",
       "<style scoped>\n",
       "    .dataframe tbody tr th:only-of-type {\n",
       "        vertical-align: middle;\n",
       "    }\n",
       "\n",
       "    .dataframe tbody tr th {\n",
       "        vertical-align: top;\n",
       "    }\n",
       "\n",
       "    .dataframe thead th {\n",
       "        text-align: right;\n",
       "    }\n",
       "</style>\n",
       "<table border=\"1\" class=\"dataframe\">\n",
       "  <thead>\n",
       "    <tr style=\"text-align: right;\">\n",
       "      <th></th>\n",
       "      <th>Position</th>\n",
       "      <th>Time</th>\n",
       "      <th>Symbol</th>\n",
       "      <th>Type</th>\n",
       "      <th>Volume</th>\n",
       "      <th>Price</th>\n",
       "      <th>Time.1</th>\n",
       "      <th>Price.1</th>\n",
       "      <th>Commission</th>\n",
       "      <th>Swap</th>\n",
       "      <th>Profit</th>\n",
       "    </tr>\n",
       "  </thead>\n",
       "  <tbody>\n",
       "    <tr>\n",
       "      <th>0</th>\n",
       "      <td>45442641</td>\n",
       "      <td>1632240836</td>\n",
       "      <td>GBPUSD</td>\n",
       "      <td>sell</td>\n",
       "      <td>5.0</td>\n",
       "      <td>1.36676</td>\n",
       "      <td>1632273613</td>\n",
       "      <td>1.36627</td>\n",
       "      <td>0.0</td>\n",
       "      <td>-16.15</td>\n",
       "      <td>245.00</td>\n",
       "    </tr>\n",
       "    <tr>\n",
       "      <th>1</th>\n",
       "      <td>45426582</td>\n",
       "      <td>1632174378</td>\n",
       "      <td>EURGBP</td>\n",
       "      <td>buy</td>\n",
       "      <td>10.0</td>\n",
       "      <td>0.85912</td>\n",
       "      <td>1632423181</td>\n",
       "      <td>0.85408</td>\n",
       "      <td>0.0</td>\n",
       "      <td>-148.80</td>\n",
       "      <td>-6925.26</td>\n",
       "    </tr>\n",
       "  </tbody>\n",
       "</table>\n",
       "</div>"
      ],
      "text/plain": [
       "   Position        Time  Symbol  Type  Volume    Price      Time.1  Price.1  \\\n",
       "0  45442641  1632240836  GBPUSD  sell     5.0  1.36676  1632273613  1.36627   \n",
       "1  45426582  1632174378  EURGBP   buy    10.0  0.85912  1632423181  0.85408   \n",
       "\n",
       "   Commission    Swap   Profit  \n",
       "0         0.0  -16.15   245.00  \n",
       "1         0.0 -148.80 -6925.26  "
      ]
     },
     "execution_count": 4,
     "metadata": {},
     "output_type": "execute_result"
    }
   ],
   "source": [
    "historico_javier = f.f_leer_archivo()\n",
    "historico_javier    "
   ]
  },
  {
   "cell_type": "markdown",
   "metadata": {},
   "source": [
    "Se crea una función para obtener los pips según el ticker que se proporcione, para esto se bajan los datos desde MetaTrader5. Se comprueba calculando el pip de EURUSD que nos debe regresar el valor de 10,000"
   ]
  },
  {
   "cell_type": "code",
   "execution_count": 10,
   "metadata": {},
   "outputs": [
    {
     "data": {
      "text/plain": [
       "10000"
      ]
     },
     "execution_count": 10,
     "metadata": {},
     "output_type": "execute_result"
    }
   ],
   "source": [
    "EURUSD_pip = f.f_pip_size_A('EURUSD')\n",
    "EURUSD_pip"
   ]
  },
  {
   "cell_type": "code",
   "execution_count": 11,
   "metadata": {},
   "outputs": [
    {
     "data": {
      "text/plain": [
       "10000"
      ]
     },
     "execution_count": 11,
     "metadata": {},
     "output_type": "execute_result"
    }
   ],
   "source": [
    "EURUSD_pip = f.f_pip_size_J('EURUSD')\n",
    "EURUSD_pip"
   ]
  },
  {
   "cell_type": "markdown",
   "metadata": {},
   "source": [
    "Agregamos una columna de tiempos que son los segundos que permaneció abierta cada operación. Obtenemos la diferencia del tiempo en que se abre y cierra la operación. Tomamos como referencia la descarga de los datos que hicimos con la función leer_archivo()."
   ]
  },
  {
   "cell_type": "code",
   "execution_count": 13,
   "metadata": {},
   "outputs": [
    {
     "data": {
      "text/html": [
       "<div>\n",
       "<style scoped>\n",
       "    .dataframe tbody tr th:only-of-type {\n",
       "        vertical-align: middle;\n",
       "    }\n",
       "\n",
       "    .dataframe tbody tr th {\n",
       "        vertical-align: top;\n",
       "    }\n",
       "\n",
       "    .dataframe thead th {\n",
       "        text-align: right;\n",
       "    }\n",
       "</style>\n",
       "<table border=\"1\" class=\"dataframe\">\n",
       "  <thead>\n",
       "    <tr style=\"text-align: right;\">\n",
       "      <th></th>\n",
       "      <th>Position</th>\n",
       "      <th>Time</th>\n",
       "      <th>Symbol</th>\n",
       "      <th>Type</th>\n",
       "      <th>Volume</th>\n",
       "      <th>Price</th>\n",
       "      <th>Time.1</th>\n",
       "      <th>Price.1</th>\n",
       "      <th>Commission</th>\n",
       "      <th>Swap</th>\n",
       "      <th>Profit</th>\n",
       "      <th>open_time</th>\n",
       "      <th>close_time</th>\n",
       "      <th>time</th>\n",
       "    </tr>\n",
       "  </thead>\n",
       "  <tbody>\n",
       "    <tr>\n",
       "      <th>0</th>\n",
       "      <td>45386461</td>\n",
       "      <td>1631894124</td>\n",
       "      <td>EURUSD</td>\n",
       "      <td>buy</td>\n",
       "      <td>0.01</td>\n",
       "      <td>1.17766</td>\n",
       "      <td>1631894254</td>\n",
       "      <td>1.17755</td>\n",
       "      <td>0.0</td>\n",
       "      <td>0.00</td>\n",
       "      <td>-0.11</td>\n",
       "      <td>2021-09-17 10:55:24</td>\n",
       "      <td>2021-09-17 10:57:34</td>\n",
       "      <td>130.0</td>\n",
       "    </tr>\n",
       "    <tr>\n",
       "      <th>1</th>\n",
       "      <td>45429899</td>\n",
       "      <td>1632191036</td>\n",
       "      <td>USDCHF</td>\n",
       "      <td>buy</td>\n",
       "      <td>0.01</td>\n",
       "      <td>0.92800</td>\n",
       "      <td>1632238413</td>\n",
       "      <td>0.92410</td>\n",
       "      <td>0.0</td>\n",
       "      <td>0.00</td>\n",
       "      <td>-4.22</td>\n",
       "      <td>2021-09-20 21:23:56</td>\n",
       "      <td>2021-09-21 10:33:33</td>\n",
       "      <td>47377.0</td>\n",
       "    </tr>\n",
       "    <tr>\n",
       "      <th>2</th>\n",
       "      <td>45386539</td>\n",
       "      <td>1631894280</td>\n",
       "      <td>EURUSD</td>\n",
       "      <td>buy</td>\n",
       "      <td>0.01</td>\n",
       "      <td>1.17761</td>\n",
       "      <td>1632238423</td>\n",
       "      <td>1.17390</td>\n",
       "      <td>0.0</td>\n",
       "      <td>-0.20</td>\n",
       "      <td>-3.71</td>\n",
       "      <td>2021-09-17 10:58:00</td>\n",
       "      <td>2021-09-21 10:33:43</td>\n",
       "      <td>344143.0</td>\n",
       "    </tr>\n",
       "    <tr>\n",
       "      <th>3</th>\n",
       "      <td>45441064</td>\n",
       "      <td>1632237416</td>\n",
       "      <td>CHFJPY</td>\n",
       "      <td>sell</td>\n",
       "      <td>0.02</td>\n",
       "      <td>118.37800</td>\n",
       "      <td>1632312458</td>\n",
       "      <td>118.80300</td>\n",
       "      <td>0.0</td>\n",
       "      <td>-0.02</td>\n",
       "      <td>-7.76</td>\n",
       "      <td>2021-09-21 10:16:56</td>\n",
       "      <td>2021-09-22 07:07:38</td>\n",
       "      <td>75042.0</td>\n",
       "    </tr>\n",
       "    <tr>\n",
       "      <th>4</th>\n",
       "      <td>45481449</td>\n",
       "      <td>1632352281</td>\n",
       "      <td>GBPUSD</td>\n",
       "      <td>buy</td>\n",
       "      <td>10.00</td>\n",
       "      <td>1.36205</td>\n",
       "      <td>1632405627</td>\n",
       "      <td>1.36916</td>\n",
       "      <td>0.0</td>\n",
       "      <td>-36.10</td>\n",
       "      <td>7110.00</td>\n",
       "      <td>2021-09-22 18:11:21</td>\n",
       "      <td>2021-09-23 09:00:27</td>\n",
       "      <td>53346.0</td>\n",
       "    </tr>\n",
       "  </tbody>\n",
       "</table>\n",
       "</div>"
      ],
      "text/plain": [
       "   Position        Time  Symbol  Type  Volume      Price      Time.1  \\\n",
       "0  45386461  1631894124  EURUSD   buy    0.01    1.17766  1631894254   \n",
       "1  45429899  1632191036  USDCHF   buy    0.01    0.92800  1632238413   \n",
       "2  45386539  1631894280  EURUSD   buy    0.01    1.17761  1632238423   \n",
       "3  45441064  1632237416  CHFJPY  sell    0.02  118.37800  1632312458   \n",
       "4  45481449  1632352281  GBPUSD   buy   10.00    1.36205  1632405627   \n",
       "\n",
       "     Price.1  Commission   Swap   Profit           open_time  \\\n",
       "0    1.17755         0.0   0.00    -0.11 2021-09-17 10:55:24   \n",
       "1    0.92410         0.0   0.00    -4.22 2021-09-20 21:23:56   \n",
       "2    1.17390         0.0  -0.20    -3.71 2021-09-17 10:58:00   \n",
       "3  118.80300         0.0  -0.02    -7.76 2021-09-21 10:16:56   \n",
       "4    1.36916         0.0 -36.10  7110.00 2021-09-22 18:11:21   \n",
       "\n",
       "           close_time      time  \n",
       "0 2021-09-17 10:57:34     130.0  \n",
       "1 2021-09-21 10:33:33   47377.0  \n",
       "2 2021-09-21 10:33:43  344143.0  \n",
       "3 2021-09-22 07:07:38   75042.0  \n",
       "4 2021-09-23 09:00:27   53346.0  "
      ]
     },
     "execution_count": 13,
     "metadata": {},
     "output_type": "execute_result"
    }
   ],
   "source": [
    "tiempo_ariadna = f.f_columnas_tiempos(historico_ariadna)\n",
    "tiempo_ariadna.head()"
   ]
  },
  {
   "cell_type": "code",
   "execution_count": 14,
   "metadata": {},
   "outputs": [
    {
     "data": {
      "text/html": [
       "<div>\n",
       "<style scoped>\n",
       "    .dataframe tbody tr th:only-of-type {\n",
       "        vertical-align: middle;\n",
       "    }\n",
       "\n",
       "    .dataframe tbody tr th {\n",
       "        vertical-align: top;\n",
       "    }\n",
       "\n",
       "    .dataframe thead th {\n",
       "        text-align: right;\n",
       "    }\n",
       "</style>\n",
       "<table border=\"1\" class=\"dataframe\">\n",
       "  <thead>\n",
       "    <tr style=\"text-align: right;\">\n",
       "      <th></th>\n",
       "      <th>Position</th>\n",
       "      <th>Time</th>\n",
       "      <th>Symbol</th>\n",
       "      <th>Type</th>\n",
       "      <th>Volume</th>\n",
       "      <th>Price</th>\n",
       "      <th>Time.1</th>\n",
       "      <th>Price.1</th>\n",
       "      <th>Commission</th>\n",
       "      <th>Swap</th>\n",
       "      <th>Profit</th>\n",
       "      <th>open_time</th>\n",
       "      <th>close_time</th>\n",
       "      <th>time</th>\n",
       "    </tr>\n",
       "  </thead>\n",
       "  <tbody>\n",
       "    <tr>\n",
       "      <th>0</th>\n",
       "      <td>45442641</td>\n",
       "      <td>1632240836</td>\n",
       "      <td>GBPUSD</td>\n",
       "      <td>sell</td>\n",
       "      <td>5.0</td>\n",
       "      <td>1.36676</td>\n",
       "      <td>1632273613</td>\n",
       "      <td>1.36627</td>\n",
       "      <td>0.0</td>\n",
       "      <td>-16.15</td>\n",
       "      <td>245.00</td>\n",
       "      <td>2021-09-21 11:13:56</td>\n",
       "      <td>2021-09-21 20:20:13</td>\n",
       "      <td>32777.0</td>\n",
       "    </tr>\n",
       "    <tr>\n",
       "      <th>1</th>\n",
       "      <td>45426582</td>\n",
       "      <td>1632174378</td>\n",
       "      <td>EURGBP</td>\n",
       "      <td>buy</td>\n",
       "      <td>10.0</td>\n",
       "      <td>0.85912</td>\n",
       "      <td>1632423181</td>\n",
       "      <td>0.85408</td>\n",
       "      <td>0.0</td>\n",
       "      <td>-148.80</td>\n",
       "      <td>-6925.26</td>\n",
       "      <td>2021-09-20 16:46:18</td>\n",
       "      <td>2021-09-23 13:53:01</td>\n",
       "      <td>248803.0</td>\n",
       "    </tr>\n",
       "  </tbody>\n",
       "</table>\n",
       "</div>"
      ],
      "text/plain": [
       "   Position        Time  Symbol  Type  Volume    Price      Time.1  Price.1  \\\n",
       "0  45442641  1632240836  GBPUSD  sell     5.0  1.36676  1632273613  1.36627   \n",
       "1  45426582  1632174378  EURGBP   buy    10.0  0.85912  1632423181  0.85408   \n",
       "\n",
       "   Commission    Swap   Profit           open_time          close_time  \\\n",
       "0         0.0  -16.15   245.00 2021-09-21 11:13:56 2021-09-21 20:20:13   \n",
       "1         0.0 -148.80 -6925.26 2021-09-20 16:46:18 2021-09-23 13:53:01   \n",
       "\n",
       "       time  \n",
       "0   32777.0  \n",
       "1  248803.0  "
      ]
     },
     "execution_count": 14,
     "metadata": {},
     "output_type": "execute_result"
    }
   ],
   "source": [
    "tiempo_javier = f.f_columnas_tiempos(historico_javier)\n",
    "tiempo_javier"
   ]
  },
  {
   "cell_type": "markdown",
   "metadata": {},
   "source": [
    "Agregamos una columna con los pips calculados. Para esto creamos una función que llena la columna de pips a base de iterar la función anterior con la que calculamos los pips. De esta manera calculamos el pip de cada ticker que tenemos en nuestro DataFrame y lo vamos integrando. A la vez, vamos a agregar una columna con los pips acumulados que va sumando los pips en orden cronológico, así como una columnas con las ganancias acumluadas. "
   ]
  },
  {
   "cell_type": "code",
   "execution_count": 5,
   "metadata": {},
   "outputs": [
    {
     "ename": "NameError",
     "evalue": "name 'tiempo_ariadna' is not defined",
     "output_type": "error",
     "traceback": [
      "\u001b[1;31m---------------------------------------------------------------------------\u001b[0m",
      "\u001b[1;31mNameError\u001b[0m                                 Traceback (most recent call last)",
      "\u001b[1;32m~\\AppData\\Local\\Temp/ipykernel_19336/981296537.py\u001b[0m in \u001b[0;36m<module>\u001b[1;34m\u001b[0m\n\u001b[1;32m----> 1\u001b[1;33m \u001b[0mpips_ariadna\u001b[0m \u001b[1;33m=\u001b[0m \u001b[0mf\u001b[0m\u001b[1;33m.\u001b[0m\u001b[0mf_columnas_pips_A\u001b[0m\u001b[1;33m(\u001b[0m\u001b[0mtiempo_ariadna\u001b[0m\u001b[1;33m)\u001b[0m\u001b[1;33m\u001b[0m\u001b[1;33m\u001b[0m\u001b[0m\n\u001b[0m\u001b[0;32m      2\u001b[0m \u001b[0mpips_ariadna\u001b[0m\u001b[1;33m.\u001b[0m\u001b[0mhead\u001b[0m\u001b[1;33m(\u001b[0m\u001b[1;33m)\u001b[0m\u001b[1;33m\u001b[0m\u001b[1;33m\u001b[0m\u001b[0m\n",
      "\u001b[1;31mNameError\u001b[0m: name 'tiempo_ariadna' is not defined"
     ]
    }
   ],
   "source": [
    "pips_ariadna = f.f_columnas_pips_A(tiempo_ariadna)\n",
    "pips_ariadna.head()"
   ]
  },
  {
   "cell_type": "markdown",
   "metadata": {},
   "source": [
    "Creamos una función donde se calculan estadísticas básicas en forma de diccionario y creamos 2 DataFrames; 'df_1_tabla' y 'df_2_ranking'"
   ]
  },
  {
   "cell_type": "code",
   "execution_count": null,
   "metadata": {},
   "outputs": [
    {
     "data": {
      "text/plain": [
       "(             medida  valor                            descripcion\n",
       " 0       Ops totales  22.00                    Operaciones totales\n",
       " 1         Ganadoras  15.00                  Operaciones ganadoras\n",
       " 2       Ganadoras_c  11.00        Operaciones ganadoras de compra\n",
       " 3       Ganadoras_v   4.00         Operaciones ganadoras de venta\n",
       " 4        Perdedoras   7.00                 Operaciones perdedoras\n",
       " 5      Perdedoras_c   4.00       Operaciones perdedoras de compra\n",
       " 6      Perdedoras_v   3.00        Operaciones perdedoras de venta\n",
       " 7   Mediana(Profit)  48.76       Mediana de profit de operaciones\n",
       " 8     Mediana(Pips)   5.35         Mediana de pips de operaciones\n",
       " 9     r_efectividad   0.68  Ganadoras Totales/Operaciones Totales\n",
       " 10     r_proporcion   2.14   Ganadoras Totales/Perdedoras Totales\n",
       " 11  r_efectividad_c   0.50  Ganadoras Compras/Operaciones Totales\n",
       " 12  r_efectividad_v   0.18   Ganadoras Ventas/Operaciones Totales,\n",
       "    symbol  rank (%)\n",
       " 0  GBPUSD     100.0\n",
       " 1  USDJPY     100.0\n",
       " 2   AAL.O     100.0\n",
       " 3  BCHUSD     100.0\n",
       " 4  USDCHF      50.0\n",
       " 5  CHFJPY      50.0\n",
       " 6  EURGBP      50.0\n",
       " 7   DOW.N      50.0\n",
       " 8  EURUSD      33.0)"
      ]
     },
     "execution_count": 16,
     "metadata": {},
     "output_type": "execute_result"
    }
   ],
   "source": [
    "df_1_tabla, df_2_ranking = f.f_estadisticas_ba(pips_ariadna)\n",
    "df_1_tabla, df_2_ranking"
   ]
  },
  {
   "cell_type": "markdown",
   "metadata": {},
   "source": [
    "## 3.2 Métricas de atribución al Desempeño\n",
    "\n",
    "Creamos una función donde se registra la evolución del capital a partir del histórico que obtuvimos en la sección anterior. El DataFrame resultante mostrará los días entre semana en los que se operó, la ganancia de cada operación, ganancia acumulada y al final se sumarán '$100,000' que fue el capital inicial con el que se abrió la cuenta demo. "
   ]
  },
  {
   "cell_type": "code",
   "execution_count": null,
   "metadata": {},
   "outputs": [
    {
     "data": {
      "text/html": [
       "<div>\n",
       "<style scoped>\n",
       "    .dataframe tbody tr th:only-of-type {\n",
       "        vertical-align: middle;\n",
       "    }\n",
       "\n",
       "    .dataframe tbody tr th {\n",
       "        vertical-align: top;\n",
       "    }\n",
       "\n",
       "    .dataframe thead th {\n",
       "        text-align: right;\n",
       "    }\n",
       "</style>\n",
       "<table border=\"1\" class=\"dataframe\">\n",
       "  <thead>\n",
       "    <tr style=\"text-align: right;\">\n",
       "      <th></th>\n",
       "      <th>Profit</th>\n",
       "      <th>profit_acm_d</th>\n",
       "      <th>cap_acum</th>\n",
       "    </tr>\n",
       "    <tr>\n",
       "      <th>close_time_</th>\n",
       "      <th></th>\n",
       "      <th></th>\n",
       "      <th></th>\n",
       "    </tr>\n",
       "  </thead>\n",
       "  <tbody>\n",
       "    <tr>\n",
       "      <th>2021-09-17</th>\n",
       "      <td>-0.11</td>\n",
       "      <td>-0.11</td>\n",
       "      <td>999999.89</td>\n",
       "    </tr>\n",
       "    <tr>\n",
       "      <th>2021-09-18</th>\n",
       "      <td>0.00</td>\n",
       "      <td>-0.11</td>\n",
       "      <td>999999.89</td>\n",
       "    </tr>\n",
       "    <tr>\n",
       "      <th>2021-09-19</th>\n",
       "      <td>0.00</td>\n",
       "      <td>-0.11</td>\n",
       "      <td>999999.89</td>\n",
       "    </tr>\n",
       "    <tr>\n",
       "      <th>2021-09-20</th>\n",
       "      <td>0.00</td>\n",
       "      <td>-0.11</td>\n",
       "      <td>999999.89</td>\n",
       "    </tr>\n",
       "    <tr>\n",
       "      <th>2021-09-21</th>\n",
       "      <td>-7.93</td>\n",
       "      <td>-8.04</td>\n",
       "      <td>999991.96</td>\n",
       "    </tr>\n",
       "  </tbody>\n",
       "</table>\n",
       "</div>"
      ],
      "text/plain": [
       "             Profit  profit_acm_d   cap_acum\n",
       "close_time_                                 \n",
       "2021-09-17    -0.11         -0.11  999999.89\n",
       "2021-09-18     0.00         -0.11  999999.89\n",
       "2021-09-19     0.00         -0.11  999999.89\n",
       "2021-09-20     0.00         -0.11  999999.89\n",
       "2021-09-21    -7.93         -8.04  999991.96"
      ]
     },
     "execution_count": 17,
     "metadata": {},
     "output_type": "execute_result"
    }
   ],
   "source": [
    "metricas = f.f_evolucion_capital(historico_ariadna)\n",
    "metricas.head()"
   ]
  },
  {
   "cell_type": "markdown",
   "metadata": {},
   "source": [
    "Creamos una función que regresa un DataFrame con resultados de cada Medida de Atribución al Desempeño (MAD) ecxpresado en términos diarios. Las MAD que se calculan son:\n",
    "* Radio de Sharpe original\n",
    "* Radio de Sharpe actualizado en base al benchmark \n",
    "* DrawDown\n",
    "* DrawUp"
   ]
  },
  {
   "cell_type": "code",
   "execution_count": null,
   "metadata": {},
   "outputs": [
    {
     "name": "stdout",
     "output_type": "stream",
     "text": [
      "[*********************100%***********************]  1 of 1 completed\n"
     ]
    },
    {
     "data": {
      "text/html": [
       "<div>\n",
       "<style scoped>\n",
       "    .dataframe tbody tr th:only-of-type {\n",
       "        vertical-align: middle;\n",
       "    }\n",
       "\n",
       "    .dataframe tbody tr th {\n",
       "        vertical-align: top;\n",
       "    }\n",
       "\n",
       "    .dataframe thead th {\n",
       "        text-align: right;\n",
       "    }\n",
       "</style>\n",
       "<table border=\"1\" class=\"dataframe\">\n",
       "  <thead>\n",
       "    <tr style=\"text-align: right;\">\n",
       "      <th></th>\n",
       "      <th>metrica</th>\n",
       "      <th></th>\n",
       "      <th>Valor</th>\n",
       "      <th>Descripción</th>\n",
       "    </tr>\n",
       "  </thead>\n",
       "  <tbody>\n",
       "    <tr>\n",
       "      <th>0</th>\n",
       "      <td>sharpe_original</td>\n",
       "      <td>Cantidad</td>\n",
       "      <td>0.135021</td>\n",
       "      <td>Sharpe Ratio Fórmula Original</td>\n",
       "    </tr>\n",
       "    <tr>\n",
       "      <th>1</th>\n",
       "      <td>sharpe_actualizado</td>\n",
       "      <td>Cantidad</td>\n",
       "      <td>-96.983148</td>\n",
       "      <td>Sharpe Ratio Fórmula Ajustada</td>\n",
       "    </tr>\n",
       "    <tr>\n",
       "      <th>2</th>\n",
       "      <td>drawdown_capi</td>\n",
       "      <td>Fecha Inicial</td>\n",
       "      <td>2021-09-22</td>\n",
       "      <td>Fecha inicial del DrawDown de Capital</td>\n",
       "    </tr>\n",
       "    <tr>\n",
       "      <th>3</th>\n",
       "      <td>drawdown_capi</td>\n",
       "      <td>Fecha Final</td>\n",
       "      <td>2021-09-22</td>\n",
       "      <td>Fecha final del DrawDown de Capital</td>\n",
       "    </tr>\n",
       "    <tr>\n",
       "      <th>4</th>\n",
       "      <td>drawdown_capi</td>\n",
       "      <td>Fecha Final</td>\n",
       "      <td>-11004.41</td>\n",
       "      <td>Máxima pérdida flotante registrada</td>\n",
       "    </tr>\n",
       "    <tr>\n",
       "      <th>5</th>\n",
       "      <td>drawup_capi</td>\n",
       "      <td>Fecha Inicial</td>\n",
       "      <td>2021-09-22</td>\n",
       "      <td>Fecha inicial del DrawUp de Capital</td>\n",
       "    </tr>\n",
       "    <tr>\n",
       "      <th>6</th>\n",
       "      <td>drawup_capi</td>\n",
       "      <td>Fecha Final</td>\n",
       "      <td>2021-09-22</td>\n",
       "      <td>Fecha final del DrawUp de Capital</td>\n",
       "    </tr>\n",
       "    <tr>\n",
       "      <th>7</th>\n",
       "      <td>drawup_capi</td>\n",
       "      <td>Fecha Final</td>\n",
       "      <td>11020.21</td>\n",
       "      <td>Máxima ganancia flotante registrada</td>\n",
       "    </tr>\n",
       "  </tbody>\n",
       "</table>\n",
       "</div>"
      ],
      "text/plain": [
       "              metrica                      Valor  \\\n",
       "0     sharpe_original       Cantidad    0.135021   \n",
       "1  sharpe_actualizado       Cantidad  -96.983148   \n",
       "2       drawdown_capi  Fecha Inicial  2021-09-22   \n",
       "3       drawdown_capi    Fecha Final  2021-09-22   \n",
       "4       drawdown_capi    Fecha Final   -11004.41   \n",
       "5         drawup_capi  Fecha Inicial  2021-09-22   \n",
       "6         drawup_capi    Fecha Final  2021-09-22   \n",
       "7         drawup_capi    Fecha Final    11020.21   \n",
       "\n",
       "                             Descripción  \n",
       "0          Sharpe Ratio Fórmula Original  \n",
       "1          Sharpe Ratio Fórmula Ajustada  \n",
       "2  Fecha inicial del DrawDown de Capital  \n",
       "3    Fecha final del DrawDown de Capital  \n",
       "4     Máxima pérdida flotante registrada  \n",
       "5    Fecha inicial del DrawUp de Capital  \n",
       "6      Fecha final del DrawUp de Capital  \n",
       "7    Máxima ganancia flotante registrada  "
      ]
     },
     "execution_count": 18,
     "metadata": {},
     "output_type": "execute_result"
    }
   ],
   "source": [
    "# tomando en cuenta que rf=5%\n",
    "e_desc, drawdown, drawup = f.f_estadisticas_mad(0.05,metricas)\n",
    "e_desc"
   ]
  },
  {
   "cell_type": "markdown",
   "metadata": {},
   "source": [
    "## 3.3 Behavioral Finance\n",
    "Para esta última parte se calcularan el efecto que tienen las ganancias y/o pérdidas partiendo del sesgo por error de valuación. Calcularemos información sobre la presencia de Dispossition Effect y buscaremos la presencia o ausencia del sesgo. Esto se hará en base a las operaciones ancla, adicionalmente se agregarán medidas "
   ]
  },
  {
   "cell_type": "markdown",
   "metadata": {},
   "source": [
    "## 3.4 Visualizaciones"
   ]
  },
  {
   "cell_type": "code",
   "execution_count": 15,
   "metadata": {},
   "outputs": [],
   "source": [
    "import plotly.express as px"
   ]
  },
  {
   "cell_type": "code",
   "execution_count": 42,
   "metadata": {},
   "outputs": [
    {
     "ename": "ValueError",
     "evalue": "Value of 'values' is not the name of a column in 'data_frame'. Expected one of ['total_bill', 'tip', 'sex', 'smoker', 'day', 'time', 'size'] but received: rank (%)",
     "output_type": "error",
     "traceback": [
      "\u001b[1;31m---------------------------------------------------------------------------\u001b[0m",
      "\u001b[1;31mValueError\u001b[0m                                Traceback (most recent call last)",
      "\u001b[1;32m~\\AppData\\Local\\Temp/ipykernel_5088/3058683168.py\u001b[0m in \u001b[0;36m<module>\u001b[1;34m\u001b[0m\n\u001b[0;32m      1\u001b[0m \u001b[0mdf\u001b[0m\u001b[1;33m=\u001b[0m \u001b[0mpx\u001b[0m\u001b[1;33m.\u001b[0m\u001b[0mdata\u001b[0m\u001b[1;33m.\u001b[0m\u001b[0mtips\u001b[0m\u001b[1;33m(\u001b[0m\u001b[0mdf_2_ranking\u001b[0m\u001b[1;33m)\u001b[0m\u001b[1;33m\u001b[0m\u001b[1;33m\u001b[0m\u001b[0m\n\u001b[1;32m----> 2\u001b[1;33m \u001b[0mfig\u001b[0m\u001b[1;33m=\u001b[0m \u001b[0mpx\u001b[0m\u001b[1;33m.\u001b[0m\u001b[0mpie\u001b[0m\u001b[1;33m(\u001b[0m\u001b[0mdf\u001b[0m\u001b[1;33m,\u001b[0m \u001b[0mvalues\u001b[0m\u001b[1;33m=\u001b[0m \u001b[1;34m'rank (%)'\u001b[0m\u001b[1;33m)\u001b[0m\u001b[1;33m\u001b[0m\u001b[1;33m\u001b[0m\u001b[0m\n\u001b[0m\u001b[0;32m      3\u001b[0m \u001b[0mfig\u001b[0m\u001b[1;33m.\u001b[0m\u001b[0mshow\u001b[0m\u001b[1;33m(\u001b[0m\u001b[1;33m)\u001b[0m\u001b[1;33m\u001b[0m\u001b[1;33m\u001b[0m\u001b[0m\n",
      "\u001b[1;32m~\\AppData\\Local\\Packages\\PythonSoftwareFoundation.Python.3.9_qbz5n2kfra8p0\\LocalCache\\local-packages\\Python39\\site-packages\\plotly\\express\\_chart_types.py\u001b[0m in \u001b[0;36mpie\u001b[1;34m(data_frame, names, values, color, color_discrete_sequence, color_discrete_map, hover_name, hover_data, custom_data, labels, title, template, width, height, opacity, hole)\u001b[0m\n\u001b[0;32m   1456\u001b[0m     \u001b[1;32melse\u001b[0m\u001b[1;33m:\u001b[0m\u001b[1;33m\u001b[0m\u001b[1;33m\u001b[0m\u001b[0m\n\u001b[0;32m   1457\u001b[0m         \u001b[0mlayout_patch\u001b[0m \u001b[1;33m=\u001b[0m \u001b[1;33m{\u001b[0m\u001b[1;33m}\u001b[0m\u001b[1;33m\u001b[0m\u001b[1;33m\u001b[0m\u001b[0m\n\u001b[1;32m-> 1458\u001b[1;33m     return make_figure(\n\u001b[0m\u001b[0;32m   1459\u001b[0m         \u001b[0margs\u001b[0m\u001b[1;33m=\u001b[0m\u001b[0mlocals\u001b[0m\u001b[1;33m(\u001b[0m\u001b[1;33m)\u001b[0m\u001b[1;33m,\u001b[0m\u001b[1;33m\u001b[0m\u001b[1;33m\u001b[0m\u001b[0m\n\u001b[0;32m   1460\u001b[0m         \u001b[0mconstructor\u001b[0m\u001b[1;33m=\u001b[0m\u001b[0mgo\u001b[0m\u001b[1;33m.\u001b[0m\u001b[0mPie\u001b[0m\u001b[1;33m,\u001b[0m\u001b[1;33m\u001b[0m\u001b[1;33m\u001b[0m\u001b[0m\n",
      "\u001b[1;32m~\\AppData\\Local\\Packages\\PythonSoftwareFoundation.Python.3.9_qbz5n2kfra8p0\\LocalCache\\local-packages\\Python39\\site-packages\\plotly\\express\\_core.py\u001b[0m in \u001b[0;36mmake_figure\u001b[1;34m(args, constructor, trace_patch, layout_patch)\u001b[0m\n\u001b[0;32m   1931\u001b[0m     \u001b[0mapply_default_cascade\u001b[0m\u001b[1;33m(\u001b[0m\u001b[0margs\u001b[0m\u001b[1;33m)\u001b[0m\u001b[1;33m\u001b[0m\u001b[1;33m\u001b[0m\u001b[0m\n\u001b[0;32m   1932\u001b[0m \u001b[1;33m\u001b[0m\u001b[0m\n\u001b[1;32m-> 1933\u001b[1;33m     \u001b[0margs\u001b[0m \u001b[1;33m=\u001b[0m \u001b[0mbuild_dataframe\u001b[0m\u001b[1;33m(\u001b[0m\u001b[0margs\u001b[0m\u001b[1;33m,\u001b[0m \u001b[0mconstructor\u001b[0m\u001b[1;33m)\u001b[0m\u001b[1;33m\u001b[0m\u001b[1;33m\u001b[0m\u001b[0m\n\u001b[0m\u001b[0;32m   1934\u001b[0m     \u001b[1;32mif\u001b[0m \u001b[0mconstructor\u001b[0m \u001b[1;32min\u001b[0m \u001b[1;33m[\u001b[0m\u001b[0mgo\u001b[0m\u001b[1;33m.\u001b[0m\u001b[0mTreemap\u001b[0m\u001b[1;33m,\u001b[0m \u001b[0mgo\u001b[0m\u001b[1;33m.\u001b[0m\u001b[0mSunburst\u001b[0m\u001b[1;33m,\u001b[0m \u001b[0mgo\u001b[0m\u001b[1;33m.\u001b[0m\u001b[0mIcicle\u001b[0m\u001b[1;33m]\u001b[0m \u001b[1;32mand\u001b[0m \u001b[0margs\u001b[0m\u001b[1;33m[\u001b[0m\u001b[1;34m\"path\"\u001b[0m\u001b[1;33m]\u001b[0m \u001b[1;32mis\u001b[0m \u001b[1;32mnot\u001b[0m \u001b[1;32mNone\u001b[0m\u001b[1;33m:\u001b[0m\u001b[1;33m\u001b[0m\u001b[1;33m\u001b[0m\u001b[0m\n\u001b[0;32m   1935\u001b[0m         \u001b[0margs\u001b[0m \u001b[1;33m=\u001b[0m \u001b[0mprocess_dataframe_hierarchy\u001b[0m\u001b[1;33m(\u001b[0m\u001b[0margs\u001b[0m\u001b[1;33m)\u001b[0m\u001b[1;33m\u001b[0m\u001b[1;33m\u001b[0m\u001b[0m\n",
      "\u001b[1;32m~\\AppData\\Local\\Packages\\PythonSoftwareFoundation.Python.3.9_qbz5n2kfra8p0\\LocalCache\\local-packages\\Python39\\site-packages\\plotly\\express\\_core.py\u001b[0m in \u001b[0;36mbuild_dataframe\u001b[1;34m(args, constructor)\u001b[0m\n\u001b[0;32m   1403\u001b[0m     \u001b[1;31m# now that things have been prepped, we do the systematic rewriting of `args`\u001b[0m\u001b[1;33m\u001b[0m\u001b[1;33m\u001b[0m\u001b[0m\n\u001b[0;32m   1404\u001b[0m \u001b[1;33m\u001b[0m\u001b[0m\n\u001b[1;32m-> 1405\u001b[1;33m     df_output, wide_id_vars = process_args_into_dataframe(\n\u001b[0m\u001b[0;32m   1406\u001b[0m         \u001b[0margs\u001b[0m\u001b[1;33m,\u001b[0m \u001b[0mwide_mode\u001b[0m\u001b[1;33m,\u001b[0m \u001b[0mvar_name\u001b[0m\u001b[1;33m,\u001b[0m \u001b[0mvalue_name\u001b[0m\u001b[1;33m\u001b[0m\u001b[1;33m\u001b[0m\u001b[0m\n\u001b[0;32m   1407\u001b[0m     )\n",
      "\u001b[1;32m~\\AppData\\Local\\Packages\\PythonSoftwareFoundation.Python.3.9_qbz5n2kfra8p0\\LocalCache\\local-packages\\Python39\\site-packages\\plotly\\express\\_core.py\u001b[0m in \u001b[0;36mprocess_args_into_dataframe\u001b[1;34m(args, wide_mode, var_name, value_name)\u001b[0m\n\u001b[0;32m   1205\u001b[0m                         \u001b[1;32mif\u001b[0m \u001b[0margument\u001b[0m \u001b[1;33m==\u001b[0m \u001b[1;34m\"index\"\u001b[0m\u001b[1;33m:\u001b[0m\u001b[1;33m\u001b[0m\u001b[1;33m\u001b[0m\u001b[0m\n\u001b[0;32m   1206\u001b[0m                             \u001b[0merr_msg\u001b[0m \u001b[1;33m+=\u001b[0m \u001b[1;34m\"\\n To use the index, pass it in directly as `df.index`.\"\u001b[0m\u001b[1;33m\u001b[0m\u001b[1;33m\u001b[0m\u001b[0m\n\u001b[1;32m-> 1207\u001b[1;33m                         \u001b[1;32mraise\u001b[0m \u001b[0mValueError\u001b[0m\u001b[1;33m(\u001b[0m\u001b[0merr_msg\u001b[0m\u001b[1;33m)\u001b[0m\u001b[1;33m\u001b[0m\u001b[1;33m\u001b[0m\u001b[0m\n\u001b[0m\u001b[0;32m   1208\u001b[0m                 \u001b[1;32melif\u001b[0m \u001b[0mlength\u001b[0m \u001b[1;32mand\u001b[0m \u001b[0mlen\u001b[0m\u001b[1;33m(\u001b[0m\u001b[0mdf_input\u001b[0m\u001b[1;33m[\u001b[0m\u001b[0margument\u001b[0m\u001b[1;33m]\u001b[0m\u001b[1;33m)\u001b[0m \u001b[1;33m!=\u001b[0m \u001b[0mlength\u001b[0m\u001b[1;33m:\u001b[0m\u001b[1;33m\u001b[0m\u001b[1;33m\u001b[0m\u001b[0m\n\u001b[0;32m   1209\u001b[0m                     raise ValueError(\n",
      "\u001b[1;31mValueError\u001b[0m: Value of 'values' is not the name of a column in 'data_frame'. Expected one of ['total_bill', 'tip', 'sex', 'smoker', 'day', 'time', 'size'] but received: rank (%)"
     ]
    }
   ],
   "source": [
    "df= px.data.tips(df_2_ranking)\n",
    "fig= px.pie(df, values= 'rank (%)')\n",
    "fig.show()"
   ]
  },
  {
   "cell_type": "code",
   "execution_count": 17,
   "metadata": {},
   "outputs": [],
   "source": [
    "import matplotlib.pyplot as plt"
   ]
  },
  {
   "cell_type": "code",
   "execution_count": 19,
   "metadata": {},
   "outputs": [
    {
     "data": {
      "text/plain": [
       "(-11004.41, 11020.21)"
      ]
     },
     "execution_count": 19,
     "metadata": {},
     "output_type": "execute_result"
    }
   ],
   "source": [
    "drawdown, drawup"
   ]
  },
  {
   "cell_type": "code",
   "execution_count": 20,
   "metadata": {},
   "outputs": [
    {
     "ename": "NameError",
     "evalue": "name 'plt' is not defined",
     "output_type": "error",
     "traceback": [
      "\u001b[1;31m---------------------------------------------------------------------------\u001b[0m",
      "\u001b[1;31mNameError\u001b[0m                                 Traceback (most recent call last)",
      "\u001b[1;32m~\\AppData\\Local\\Temp/ipykernel_24736/3601839940.py\u001b[0m in \u001b[0;36m<module>\u001b[1;34m\u001b[0m\n\u001b[0;32m      2\u001b[0m \u001b[1;33m\u001b[0m\u001b[0m\n\u001b[0;32m      3\u001b[0m \u001b[1;31m# capital acumulado diario de negro\u001b[0m\u001b[1;33m\u001b[0m\u001b[1;33m\u001b[0m\u001b[0m\n\u001b[1;32m----> 4\u001b[1;33m \u001b[0mplt\u001b[0m\u001b[1;33m.\u001b[0m\u001b[0mplot\u001b[0m\u001b[1;33m(\u001b[0m\u001b[0mmetricas\u001b[0m\u001b[1;33m.\u001b[0m\u001b[0mindex\u001b[0m\u001b[1;33m,\u001b[0m \u001b[0mmetricas\u001b[0m\u001b[1;33m.\u001b[0m\u001b[0mcap_acum\u001b[0m\u001b[1;33m,\u001b[0m \u001b[1;34m'k'\u001b[0m\u001b[1;33m)\u001b[0m\u001b[1;33m\u001b[0m\u001b[1;33m\u001b[0m\u001b[0m\n\u001b[0m\u001b[0;32m      5\u001b[0m \u001b[1;31m# DrawUp linea punteada verde\u001b[0m\u001b[1;33m\u001b[0m\u001b[1;33m\u001b[0m\u001b[0m\n\u001b[0;32m      6\u001b[0m \u001b[0mplt\u001b[0m\u001b[1;33m.\u001b[0m\u001b[0mplot\u001b[0m\u001b[1;33m(\u001b[0m\u001b[0mdrawup\u001b[0m\u001b[1;33m,\u001b[0m\u001b[1;34m'*g'\u001b[0m\u001b[1;33m)\u001b[0m\u001b[1;33m\u001b[0m\u001b[1;33m\u001b[0m\u001b[0m\n",
      "\u001b[1;31mNameError\u001b[0m: name 'plt' is not defined"
     ]
    }
   ],
   "source": [
    "# gráfica 2: DrawDown y DrawUp\n",
    "\n",
    "# capital acumulado diario de negro\n",
    "plt.plot(metricas.index, metricas.cap_acum, 'k')\n",
    "# DrawUp linea punteada verde\n",
    "plt.plot(drawup,'*g')\n",
    "# DrawDown linea punteada roja \n",
    "\n",
    "plt.xticks(rotation=90)\n",
    "plt.ylabel('($)')\n",
    "plt.grid()"
   ]
  },
  {
   "cell_type": "markdown",
   "metadata": {},
   "source": []
  },
  {
   "cell_type": "markdown",
   "metadata": {},
   "source": [
    "# 4. Procesos "
   ]
  },
  {
   "cell_type": "markdown",
   "metadata": {},
   "source": [
    "# 5. Conclusiones\n",
    "\n",
    "El nivel de trabajo y el grado de conocimientos para este laboratorio, fue retador y muy demandante por el tiempo empleado y lapoca colaboración del resto de los compañeros. Desde la organización de los tiempos, hasta las largas jornadas de trabajo incluso en la madrugada, hasta el cumplimiento con todos los requisitos y la estructura que pide el proyecto, fue súmamente complicado para nosotros."
   ]
  },
  {
   "cell_type": "markdown",
   "metadata": {},
   "source": [
    "## Bibliografía\n",
    "\n",
    "* https://pandas.pydata.org/docs/user_guide/merging.html\n",
    "* https://www.kite.com/python/answers/how-to-rotate-axis-labels-in-matplotlib-in-python\n",
    "* https://www.mql5.com/es/docs/integration/python_metatrader5/mt5copyticksrange_py "
   ]
  }
 ],
 "metadata": {
  "interpreter": {
   "hash": "abdc4820472cfc979889a362b5be266413b844e4381fcdf1f00e9719e3593518"
  },
  "kernelspec": {
   "display_name": "Python 3",
   "language": "python",
   "name": "python3"
  },
  "language_info": {
   "codemirror_mode": {
    "name": "ipython",
    "version": 3
   },
   "file_extension": ".py",
   "mimetype": "text/x-python",
   "name": "python",
   "nbconvert_exporter": "python",
   "pygments_lexer": "ipython3",
   "version": "3.8.8"
  }
 },
 "nbformat": 4,
 "nbformat_minor": 2
}
