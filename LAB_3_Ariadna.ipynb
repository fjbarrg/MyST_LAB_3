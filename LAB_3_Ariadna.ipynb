{
 "cells": [
  {
   "cell_type": "markdown",
   "metadata": {},
   "source": [
    "<img src=\"http://oci02.img.iteso.mx/identidad_de_instancia_2018/ITESO/Logos%20ITESO/Logo-ITESO-Principal.jpg\">"
   ]
  },
  {
   "cell_type": "markdown",
   "metadata": {},
   "source": [
    "# Laboratorio 3: Behavioral Finance\n",
    "\n",
    "## Elaborado por:\n",
    "Ariadna Desirée Galindo Marín \n",
    "Francisco Javier Barragán (?)\n",
    "\n",
    "## Otoño 2021\n",
    "\n",
    "Repositorio: <a href='https://github.com/ariadnagalindom/MyST_LAB_3'>Link</a></font>"
   ]
  },
  {
   "cell_type": "markdown",
   "metadata": {},
   "source": [
    "# 0. Librerias y dependencias\n",
    "\n",
    "## 0.1 \n",
    "Requirements necesarios para correr el cuaderno:\n"
   ]
  },
  {
   "cell_type": "code",
   "execution_count": 1,
   "metadata": {},
   "outputs": [],
   "source": [
    "#importamos librerias \n",
    "import functions as f\n",
    "import pandas as pd\n",
    "import numpy as np\n"
   ]
  },
  {
   "cell_type": "code",
   "execution_count": 17,
   "metadata": {},
   "outputs": [
    {
     "data": {
      "text/plain": [
       "<module 'functions' from 'c:\\\\Users\\\\ariad\\\\OneDrive\\\\Documentos\\\\GitHub\\\\MyST_LAB_3\\\\functions.py'>"
      ]
     },
     "execution_count": 17,
     "metadata": {},
     "output_type": "execute_result"
    }
   ],
   "source": [
    "import importlib\n",
    "\n",
    "importlib.reload(f)"
   ]
  },
  {
   "cell_type": "markdown",
   "metadata": {},
   "source": [
    "## 0.2 Dependencias\n",
    "\n",
    "* '\\files\\cuentas.csv' -- Archivo con las credenciales de los integrantes del equipo. \n",
    "* -- Archivo con los datos del '^S&P500'"
   ]
  },
  {
   "cell_type": "markdown",
   "metadata": {},
   "source": [
    "# 1. Introducción "
   ]
  },
  {
   "cell_type": "markdown",
   "metadata": {},
   "source": [
    "# 2. Objetivos\n",
    "## 2.1 General\n",
    "## 2.2 Específicos "
   ]
  },
  {
   "cell_type": "markdown",
   "metadata": {},
   "source": [
    "# 3. Datos utilizados \n",
    "Se descargan los históricos de MetaTrader5 del laboratorio anterior, se debe repetir el proceso con todos los integrantes del equipo. Por eso el documento 'cuentas.csv' tiene las credenciales de todos. "
   ]
  },
  {
   "cell_type": "code",
   "execution_count": 11,
   "metadata": {},
   "outputs": [
    {
     "name": "stdout",
     "output_type": "stream",
     "text": [
      "Los nombres son: ['Ariadna', 'Javier']\n",
      "Se inició sesión con éxito\n"
     ]
    },
    {
     "data": {
      "text/html": [
       "<div>\n",
       "<style scoped>\n",
       "    .dataframe tbody tr th:only-of-type {\n",
       "        vertical-align: middle;\n",
       "    }\n",
       "\n",
       "    .dataframe tbody tr th {\n",
       "        vertical-align: top;\n",
       "    }\n",
       "\n",
       "    .dataframe thead th {\n",
       "        text-align: right;\n",
       "    }\n",
       "</style>\n",
       "<table border=\"1\" class=\"dataframe\">\n",
       "  <thead>\n",
       "    <tr style=\"text-align: right;\">\n",
       "      <th></th>\n",
       "      <th>Position</th>\n",
       "      <th>Time</th>\n",
       "      <th>Symbol</th>\n",
       "      <th>Type</th>\n",
       "      <th>Volume</th>\n",
       "      <th>Price</th>\n",
       "      <th>Time.1</th>\n",
       "      <th>Price.1</th>\n",
       "      <th>Commission</th>\n",
       "      <th>Swap</th>\n",
       "      <th>Profit</th>\n",
       "    </tr>\n",
       "  </thead>\n",
       "  <tbody>\n",
       "    <tr>\n",
       "      <th>0</th>\n",
       "      <td>45386461</td>\n",
       "      <td>1631894124</td>\n",
       "      <td>EURUSD</td>\n",
       "      <td>buy</td>\n",
       "      <td>0.01</td>\n",
       "      <td>1.17766</td>\n",
       "      <td>1631894254</td>\n",
       "      <td>1.17755</td>\n",
       "      <td>0.0</td>\n",
       "      <td>0.00</td>\n",
       "      <td>-0.11</td>\n",
       "    </tr>\n",
       "    <tr>\n",
       "      <th>1</th>\n",
       "      <td>45429899</td>\n",
       "      <td>1632191036</td>\n",
       "      <td>USDCHF</td>\n",
       "      <td>buy</td>\n",
       "      <td>0.01</td>\n",
       "      <td>0.92800</td>\n",
       "      <td>1632238413</td>\n",
       "      <td>0.92410</td>\n",
       "      <td>0.0</td>\n",
       "      <td>0.00</td>\n",
       "      <td>-4.22</td>\n",
       "    </tr>\n",
       "    <tr>\n",
       "      <th>2</th>\n",
       "      <td>45386539</td>\n",
       "      <td>1631894280</td>\n",
       "      <td>EURUSD</td>\n",
       "      <td>buy</td>\n",
       "      <td>0.01</td>\n",
       "      <td>1.17761</td>\n",
       "      <td>1632238423</td>\n",
       "      <td>1.17390</td>\n",
       "      <td>0.0</td>\n",
       "      <td>-0.20</td>\n",
       "      <td>-3.71</td>\n",
       "    </tr>\n",
       "    <tr>\n",
       "      <th>3</th>\n",
       "      <td>45441064</td>\n",
       "      <td>1632237416</td>\n",
       "      <td>CHFJPY</td>\n",
       "      <td>sell</td>\n",
       "      <td>0.02</td>\n",
       "      <td>118.37800</td>\n",
       "      <td>1632312458</td>\n",
       "      <td>118.80300</td>\n",
       "      <td>0.0</td>\n",
       "      <td>-0.02</td>\n",
       "      <td>-7.76</td>\n",
       "    </tr>\n",
       "    <tr>\n",
       "      <th>4</th>\n",
       "      <td>45481449</td>\n",
       "      <td>1632352281</td>\n",
       "      <td>GBPUSD</td>\n",
       "      <td>buy</td>\n",
       "      <td>10.00</td>\n",
       "      <td>1.36205</td>\n",
       "      <td>1632405627</td>\n",
       "      <td>1.36916</td>\n",
       "      <td>0.0</td>\n",
       "      <td>-36.10</td>\n",
       "      <td>7110.00</td>\n",
       "    </tr>\n",
       "  </tbody>\n",
       "</table>\n",
       "</div>"
      ],
      "text/plain": [
       "   Position        Time  Symbol  Type  Volume      Price      Time.1  \\\n",
       "0  45386461  1631894124  EURUSD   buy    0.01    1.17766  1631894254   \n",
       "1  45429899  1632191036  USDCHF   buy    0.01    0.92800  1632238413   \n",
       "2  45386539  1631894280  EURUSD   buy    0.01    1.17761  1632238423   \n",
       "3  45441064  1632237416  CHFJPY  sell    0.02  118.37800  1632312458   \n",
       "4  45481449  1632352281  GBPUSD   buy   10.00    1.36205  1632405627   \n",
       "\n",
       "     Price.1  Commission   Swap   Profit  \n",
       "0    1.17755         0.0   0.00    -0.11  \n",
       "1    0.92410         0.0   0.00    -4.22  \n",
       "2    1.17390         0.0  -0.20    -3.71  \n",
       "3  118.80300         0.0  -0.02    -7.76  \n",
       "4    1.36916         0.0 -36.10  7110.00  "
      ]
     },
     "execution_count": 11,
     "metadata": {},
     "output_type": "execute_result"
    }
   ],
   "source": [
    "historico_ariadna = f.f_leer_archivo()\n",
    "historico_ariadna.head()"
   ]
  },
  {
   "cell_type": "code",
   "execution_count": 12,
   "metadata": {},
   "outputs": [
    {
     "data": {
      "text/plain": [
       "10000"
      ]
     },
     "execution_count": 12,
     "metadata": {},
     "output_type": "execute_result"
    }
   ],
   "source": [
    "EURUSD_pip = f.f_pip_size('EURUSD')\n",
    "EURUSD_pip\n"
   ]
  },
  {
   "cell_type": "code",
   "execution_count": 13,
   "metadata": {},
   "outputs": [
    {
     "data": {
      "text/html": [
       "<div>\n",
       "<style scoped>\n",
       "    .dataframe tbody tr th:only-of-type {\n",
       "        vertical-align: middle;\n",
       "    }\n",
       "\n",
       "    .dataframe tbody tr th {\n",
       "        vertical-align: top;\n",
       "    }\n",
       "\n",
       "    .dataframe thead th {\n",
       "        text-align: right;\n",
       "    }\n",
       "</style>\n",
       "<table border=\"1\" class=\"dataframe\">\n",
       "  <thead>\n",
       "    <tr style=\"text-align: right;\">\n",
       "      <th></th>\n",
       "      <th>Position</th>\n",
       "      <th>Time</th>\n",
       "      <th>Symbol</th>\n",
       "      <th>Type</th>\n",
       "      <th>Volume</th>\n",
       "      <th>Price</th>\n",
       "      <th>Time.1</th>\n",
       "      <th>Price.1</th>\n",
       "      <th>Commission</th>\n",
       "      <th>Swap</th>\n",
       "      <th>Profit</th>\n",
       "      <th>open_time</th>\n",
       "      <th>close_time</th>\n",
       "      <th>time</th>\n",
       "    </tr>\n",
       "  </thead>\n",
       "  <tbody>\n",
       "    <tr>\n",
       "      <th>0</th>\n",
       "      <td>45386461</td>\n",
       "      <td>1631894124</td>\n",
       "      <td>EURUSD</td>\n",
       "      <td>buy</td>\n",
       "      <td>0.01</td>\n",
       "      <td>1.17766</td>\n",
       "      <td>1631894254</td>\n",
       "      <td>1.17755</td>\n",
       "      <td>0.0</td>\n",
       "      <td>0.00</td>\n",
       "      <td>-0.11</td>\n",
       "      <td>2021-09-17 10:55:24</td>\n",
       "      <td>2021-09-17 10:57:34</td>\n",
       "      <td>130.0</td>\n",
       "    </tr>\n",
       "    <tr>\n",
       "      <th>1</th>\n",
       "      <td>45429899</td>\n",
       "      <td>1632191036</td>\n",
       "      <td>USDCHF</td>\n",
       "      <td>buy</td>\n",
       "      <td>0.01</td>\n",
       "      <td>0.92800</td>\n",
       "      <td>1632238413</td>\n",
       "      <td>0.92410</td>\n",
       "      <td>0.0</td>\n",
       "      <td>0.00</td>\n",
       "      <td>-4.22</td>\n",
       "      <td>2021-09-20 21:23:56</td>\n",
       "      <td>2021-09-21 10:33:33</td>\n",
       "      <td>47377.0</td>\n",
       "    </tr>\n",
       "    <tr>\n",
       "      <th>2</th>\n",
       "      <td>45386539</td>\n",
       "      <td>1631894280</td>\n",
       "      <td>EURUSD</td>\n",
       "      <td>buy</td>\n",
       "      <td>0.01</td>\n",
       "      <td>1.17761</td>\n",
       "      <td>1632238423</td>\n",
       "      <td>1.17390</td>\n",
       "      <td>0.0</td>\n",
       "      <td>-0.20</td>\n",
       "      <td>-3.71</td>\n",
       "      <td>2021-09-17 10:58:00</td>\n",
       "      <td>2021-09-21 10:33:43</td>\n",
       "      <td>344143.0</td>\n",
       "    </tr>\n",
       "    <tr>\n",
       "      <th>3</th>\n",
       "      <td>45441064</td>\n",
       "      <td>1632237416</td>\n",
       "      <td>CHFJPY</td>\n",
       "      <td>sell</td>\n",
       "      <td>0.02</td>\n",
       "      <td>118.37800</td>\n",
       "      <td>1632312458</td>\n",
       "      <td>118.80300</td>\n",
       "      <td>0.0</td>\n",
       "      <td>-0.02</td>\n",
       "      <td>-7.76</td>\n",
       "      <td>2021-09-21 10:16:56</td>\n",
       "      <td>2021-09-22 07:07:38</td>\n",
       "      <td>75042.0</td>\n",
       "    </tr>\n",
       "    <tr>\n",
       "      <th>4</th>\n",
       "      <td>45481449</td>\n",
       "      <td>1632352281</td>\n",
       "      <td>GBPUSD</td>\n",
       "      <td>buy</td>\n",
       "      <td>10.00</td>\n",
       "      <td>1.36205</td>\n",
       "      <td>1632405627</td>\n",
       "      <td>1.36916</td>\n",
       "      <td>0.0</td>\n",
       "      <td>-36.10</td>\n",
       "      <td>7110.00</td>\n",
       "      <td>2021-09-22 18:11:21</td>\n",
       "      <td>2021-09-23 09:00:27</td>\n",
       "      <td>53346.0</td>\n",
       "    </tr>\n",
       "  </tbody>\n",
       "</table>\n",
       "</div>"
      ],
      "text/plain": [
       "   Position        Time  Symbol  Type  Volume      Price      Time.1  \\\n",
       "0  45386461  1631894124  EURUSD   buy    0.01    1.17766  1631894254   \n",
       "1  45429899  1632191036  USDCHF   buy    0.01    0.92800  1632238413   \n",
       "2  45386539  1631894280  EURUSD   buy    0.01    1.17761  1632238423   \n",
       "3  45441064  1632237416  CHFJPY  sell    0.02  118.37800  1632312458   \n",
       "4  45481449  1632352281  GBPUSD   buy   10.00    1.36205  1632405627   \n",
       "\n",
       "     Price.1  Commission   Swap   Profit           open_time  \\\n",
       "0    1.17755         0.0   0.00    -0.11 2021-09-17 10:55:24   \n",
       "1    0.92410         0.0   0.00    -4.22 2021-09-20 21:23:56   \n",
       "2    1.17390         0.0  -0.20    -3.71 2021-09-17 10:58:00   \n",
       "3  118.80300         0.0  -0.02    -7.76 2021-09-21 10:16:56   \n",
       "4    1.36916         0.0 -36.10  7110.00 2021-09-22 18:11:21   \n",
       "\n",
       "           close_time      time  \n",
       "0 2021-09-17 10:57:34     130.0  \n",
       "1 2021-09-21 10:33:33   47377.0  \n",
       "2 2021-09-21 10:33:43  344143.0  \n",
       "3 2021-09-22 07:07:38   75042.0  \n",
       "4 2021-09-23 09:00:27   53346.0  "
      ]
     },
     "execution_count": 13,
     "metadata": {},
     "output_type": "execute_result"
    }
   ],
   "source": [
    "tiempo = f.f_columnas_tiempos(historico_ariadna)\n",
    "tiempo.head()"
   ]
  },
  {
   "cell_type": "code",
   "execution_count": 7,
   "metadata": {},
   "outputs": [
    {
     "data": {
      "text/html": [
       "<div>\n",
       "<style scoped>\n",
       "    .dataframe tbody tr th:only-of-type {\n",
       "        vertical-align: middle;\n",
       "    }\n",
       "\n",
       "    .dataframe tbody tr th {\n",
       "        vertical-align: top;\n",
       "    }\n",
       "\n",
       "    .dataframe thead th {\n",
       "        text-align: right;\n",
       "    }\n",
       "</style>\n",
       "<table border=\"1\" class=\"dataframe\">\n",
       "  <thead>\n",
       "    <tr style=\"text-align: right;\">\n",
       "      <th></th>\n",
       "      <th>Position</th>\n",
       "      <th>Time</th>\n",
       "      <th>Symbol</th>\n",
       "      <th>Type</th>\n",
       "      <th>Volume</th>\n",
       "      <th>Price</th>\n",
       "      <th>Time.1</th>\n",
       "      <th>Price.1</th>\n",
       "      <th>Commission</th>\n",
       "      <th>Swap</th>\n",
       "      <th>Profit</th>\n",
       "      <th>open_time</th>\n",
       "      <th>close_time</th>\n",
       "      <th>time</th>\n",
       "      <th>pips</th>\n",
       "      <th>pips_acm</th>\n",
       "      <th>profit_acm</th>\n",
       "    </tr>\n",
       "  </thead>\n",
       "  <tbody>\n",
       "    <tr>\n",
       "      <th>0</th>\n",
       "      <td>45386461</td>\n",
       "      <td>1631894124</td>\n",
       "      <td>EURUSD</td>\n",
       "      <td>buy</td>\n",
       "      <td>0.01</td>\n",
       "      <td>1.17766</td>\n",
       "      <td>1631894254</td>\n",
       "      <td>1.17755</td>\n",
       "      <td>0.0</td>\n",
       "      <td>0.00</td>\n",
       "      <td>-0.11</td>\n",
       "      <td>2021-09-17 10:55:24</td>\n",
       "      <td>2021-09-17 10:57:34</td>\n",
       "      <td>130.0</td>\n",
       "      <td>-1.1</td>\n",
       "      <td>-1.1</td>\n",
       "      <td>-0.11</td>\n",
       "    </tr>\n",
       "    <tr>\n",
       "      <th>1</th>\n",
       "      <td>45429899</td>\n",
       "      <td>1632191036</td>\n",
       "      <td>USDCHF</td>\n",
       "      <td>buy</td>\n",
       "      <td>0.01</td>\n",
       "      <td>0.92800</td>\n",
       "      <td>1632238413</td>\n",
       "      <td>0.92410</td>\n",
       "      <td>0.0</td>\n",
       "      <td>0.00</td>\n",
       "      <td>-4.22</td>\n",
       "      <td>2021-09-20 21:23:56</td>\n",
       "      <td>2021-09-21 10:33:33</td>\n",
       "      <td>47377.0</td>\n",
       "      <td>-39.0</td>\n",
       "      <td>-40.1</td>\n",
       "      <td>-4.33</td>\n",
       "    </tr>\n",
       "    <tr>\n",
       "      <th>2</th>\n",
       "      <td>45386539</td>\n",
       "      <td>1631894280</td>\n",
       "      <td>EURUSD</td>\n",
       "      <td>buy</td>\n",
       "      <td>0.01</td>\n",
       "      <td>1.17761</td>\n",
       "      <td>1632238423</td>\n",
       "      <td>1.17390</td>\n",
       "      <td>0.0</td>\n",
       "      <td>-0.20</td>\n",
       "      <td>-3.71</td>\n",
       "      <td>2021-09-17 10:58:00</td>\n",
       "      <td>2021-09-21 10:33:43</td>\n",
       "      <td>344143.0</td>\n",
       "      <td>-37.1</td>\n",
       "      <td>-77.2</td>\n",
       "      <td>-8.04</td>\n",
       "    </tr>\n",
       "    <tr>\n",
       "      <th>3</th>\n",
       "      <td>45441064</td>\n",
       "      <td>1632237416</td>\n",
       "      <td>CHFJPY</td>\n",
       "      <td>sell</td>\n",
       "      <td>0.02</td>\n",
       "      <td>118.37800</td>\n",
       "      <td>1632312458</td>\n",
       "      <td>118.80300</td>\n",
       "      <td>0.0</td>\n",
       "      <td>-0.02</td>\n",
       "      <td>-7.76</td>\n",
       "      <td>2021-09-21 10:16:56</td>\n",
       "      <td>2021-09-22 07:07:38</td>\n",
       "      <td>75042.0</td>\n",
       "      <td>-42.5</td>\n",
       "      <td>-119.7</td>\n",
       "      <td>-15.80</td>\n",
       "    </tr>\n",
       "    <tr>\n",
       "      <th>4</th>\n",
       "      <td>45481449</td>\n",
       "      <td>1632352281</td>\n",
       "      <td>GBPUSD</td>\n",
       "      <td>buy</td>\n",
       "      <td>10.00</td>\n",
       "      <td>1.36205</td>\n",
       "      <td>1632405627</td>\n",
       "      <td>1.36916</td>\n",
       "      <td>0.0</td>\n",
       "      <td>-36.10</td>\n",
       "      <td>7110.00</td>\n",
       "      <td>2021-09-22 18:11:21</td>\n",
       "      <td>2021-09-23 09:00:27</td>\n",
       "      <td>53346.0</td>\n",
       "      <td>71.1</td>\n",
       "      <td>-48.6</td>\n",
       "      <td>7094.20</td>\n",
       "    </tr>\n",
       "  </tbody>\n",
       "</table>\n",
       "</div>"
      ],
      "text/plain": [
       "   Position        Time  Symbol  Type  Volume      Price      Time.1  \\\n",
       "0  45386461  1631894124  EURUSD   buy    0.01    1.17766  1631894254   \n",
       "1  45429899  1632191036  USDCHF   buy    0.01    0.92800  1632238413   \n",
       "2  45386539  1631894280  EURUSD   buy    0.01    1.17761  1632238423   \n",
       "3  45441064  1632237416  CHFJPY  sell    0.02  118.37800  1632312458   \n",
       "4  45481449  1632352281  GBPUSD   buy   10.00    1.36205  1632405627   \n",
       "\n",
       "     Price.1  Commission   Swap   Profit           open_time  \\\n",
       "0    1.17755         0.0   0.00    -0.11 2021-09-17 10:55:24   \n",
       "1    0.92410         0.0   0.00    -4.22 2021-09-20 21:23:56   \n",
       "2    1.17390         0.0  -0.20    -3.71 2021-09-17 10:58:00   \n",
       "3  118.80300         0.0  -0.02    -7.76 2021-09-21 10:16:56   \n",
       "4    1.36916         0.0 -36.10  7110.00 2021-09-22 18:11:21   \n",
       "\n",
       "           close_time      time  pips  pips_acm  profit_acm  \n",
       "0 2021-09-17 10:57:34     130.0  -1.1      -1.1       -0.11  \n",
       "1 2021-09-21 10:33:33   47377.0 -39.0     -40.1       -4.33  \n",
       "2 2021-09-21 10:33:43  344143.0 -37.1     -77.2       -8.04  \n",
       "3 2021-09-22 07:07:38   75042.0 -42.5    -119.7      -15.80  \n",
       "4 2021-09-23 09:00:27   53346.0  71.1     -48.6     7094.20  "
      ]
     },
     "execution_count": 7,
     "metadata": {},
     "output_type": "execute_result"
    }
   ],
   "source": [
    "pips_ariadna = f.f_columnas_pips(tiempo)\n",
    "pips_ariadna.head()"
   ]
  },
  {
   "cell_type": "code",
   "execution_count": 14,
   "metadata": {},
   "outputs": [
    {
     "data": {
      "text/html": [
       "<div>\n",
       "<style scoped>\n",
       "    .dataframe tbody tr th:only-of-type {\n",
       "        vertical-align: middle;\n",
       "    }\n",
       "\n",
       "    .dataframe tbody tr th {\n",
       "        vertical-align: top;\n",
       "    }\n",
       "\n",
       "    .dataframe thead th {\n",
       "        text-align: right;\n",
       "    }\n",
       "</style>\n",
       "<table border=\"1\" class=\"dataframe\">\n",
       "  <thead>\n",
       "    <tr style=\"text-align: right;\">\n",
       "      <th></th>\n",
       "      <th>Profit</th>\n",
       "      <th>profit_acm_d</th>\n",
       "      <th>cap_acum</th>\n",
       "    </tr>\n",
       "    <tr>\n",
       "      <th>close_time_</th>\n",
       "      <th></th>\n",
       "      <th></th>\n",
       "      <th></th>\n",
       "    </tr>\n",
       "  </thead>\n",
       "  <tbody>\n",
       "    <tr>\n",
       "      <th>2021-09-17</th>\n",
       "      <td>-0.11</td>\n",
       "      <td>-0.11</td>\n",
       "      <td>999999.89</td>\n",
       "    </tr>\n",
       "    <tr>\n",
       "      <th>2021-09-18</th>\n",
       "      <td>0.00</td>\n",
       "      <td>-0.11</td>\n",
       "      <td>999999.89</td>\n",
       "    </tr>\n",
       "    <tr>\n",
       "      <th>2021-09-19</th>\n",
       "      <td>0.00</td>\n",
       "      <td>-0.11</td>\n",
       "      <td>999999.89</td>\n",
       "    </tr>\n",
       "    <tr>\n",
       "      <th>2021-09-20</th>\n",
       "      <td>0.00</td>\n",
       "      <td>-0.11</td>\n",
       "      <td>999999.89</td>\n",
       "    </tr>\n",
       "    <tr>\n",
       "      <th>2021-09-21</th>\n",
       "      <td>-7.93</td>\n",
       "      <td>-8.04</td>\n",
       "      <td>999991.96</td>\n",
       "    </tr>\n",
       "  </tbody>\n",
       "</table>\n",
       "</div>"
      ],
      "text/plain": [
       "             Profit  profit_acm_d   cap_acum\n",
       "close_time_                                 \n",
       "2021-09-17    -0.11         -0.11  999999.89\n",
       "2021-09-18     0.00         -0.11  999999.89\n",
       "2021-09-19     0.00         -0.11  999999.89\n",
       "2021-09-20     0.00         -0.11  999999.89\n",
       "2021-09-21    -7.93         -8.04  999991.96"
      ]
     },
     "execution_count": 14,
     "metadata": {},
     "output_type": "execute_result"
    }
   ],
   "source": [
    "metricas = f.f_evolucion_capital(historico_ariadna)\n",
    "metricas.head()"
   ]
  },
  {
   "cell_type": "code",
   "execution_count": 18,
   "metadata": {},
   "outputs": [
    {
     "name": "stdout",
     "output_type": "stream",
     "text": [
      "[*********************100%***********************]  1 of 1 completed\n"
     ]
    },
    {
     "data": {
      "text/html": [
       "<div>\n",
       "<style scoped>\n",
       "    .dataframe tbody tr th:only-of-type {\n",
       "        vertical-align: middle;\n",
       "    }\n",
       "\n",
       "    .dataframe tbody tr th {\n",
       "        vertical-align: top;\n",
       "    }\n",
       "\n",
       "    .dataframe thead th {\n",
       "        text-align: right;\n",
       "    }\n",
       "</style>\n",
       "<table border=\"1\" class=\"dataframe\">\n",
       "  <thead>\n",
       "    <tr style=\"text-align: right;\">\n",
       "      <th></th>\n",
       "      <th>metrica</th>\n",
       "      <th></th>\n",
       "      <th>Valor</th>\n",
       "      <th>Descripción</th>\n",
       "    </tr>\n",
       "  </thead>\n",
       "  <tbody>\n",
       "    <tr>\n",
       "      <th>0</th>\n",
       "      <td>sharpe_original</td>\n",
       "      <td>Cantidad</td>\n",
       "      <td>0.135021</td>\n",
       "      <td>Sharpe Ratio Fórmula Original</td>\n",
       "    </tr>\n",
       "    <tr>\n",
       "      <th>1</th>\n",
       "      <td>sharpe_actualizado</td>\n",
       "      <td>Cantidad</td>\n",
       "      <td>-96.983148</td>\n",
       "      <td>Sharpe Ratio Fórmula Ajustada</td>\n",
       "    </tr>\n",
       "    <tr>\n",
       "      <th>2</th>\n",
       "      <td>drawdown_capi</td>\n",
       "      <td>Fecha Inicial</td>\n",
       "      <td>2021-09-22</td>\n",
       "      <td>Fecha inicial del DrawDown de Capital</td>\n",
       "    </tr>\n",
       "    <tr>\n",
       "      <th>3</th>\n",
       "      <td>drawdown_capi</td>\n",
       "      <td>Fecha Final</td>\n",
       "      <td>2021-09-22</td>\n",
       "      <td>Fecha final del DrawDown de Capital</td>\n",
       "    </tr>\n",
       "    <tr>\n",
       "      <th>4</th>\n",
       "      <td>drawdown_capi</td>\n",
       "      <td>Fecha Final</td>\n",
       "      <td>-11004.41</td>\n",
       "      <td>Máxima pérdida flotante registrada</td>\n",
       "    </tr>\n",
       "    <tr>\n",
       "      <th>5</th>\n",
       "      <td>drawup_capi</td>\n",
       "      <td>Fecha Inicial</td>\n",
       "      <td>2021-09-22</td>\n",
       "      <td>Fecha inicial del DrawUp de Capital</td>\n",
       "    </tr>\n",
       "    <tr>\n",
       "      <th>6</th>\n",
       "      <td>drawup_capi</td>\n",
       "      <td>Fecha Final</td>\n",
       "      <td>2021-09-22</td>\n",
       "      <td>Fecha final del DrawUp de Capital</td>\n",
       "    </tr>\n",
       "    <tr>\n",
       "      <th>7</th>\n",
       "      <td>drawup_capi</td>\n",
       "      <td>Fecha Final</td>\n",
       "      <td>11020.21</td>\n",
       "      <td>Máxima ganancia flotante registrada</td>\n",
       "    </tr>\n",
       "  </tbody>\n",
       "</table>\n",
       "</div>"
      ],
      "text/plain": [
       "              metrica                      Valor  \\\n",
       "0     sharpe_original       Cantidad    0.135021   \n",
       "1  sharpe_actualizado       Cantidad  -96.983148   \n",
       "2       drawdown_capi  Fecha Inicial  2021-09-22   \n",
       "3       drawdown_capi    Fecha Final  2021-09-22   \n",
       "4       drawdown_capi    Fecha Final   -11004.41   \n",
       "5         drawup_capi  Fecha Inicial  2021-09-22   \n",
       "6         drawup_capi    Fecha Final  2021-09-22   \n",
       "7         drawup_capi    Fecha Final    11020.21   \n",
       "\n",
       "                             Descripción  \n",
       "0          Sharpe Ratio Fórmula Original  \n",
       "1          Sharpe Ratio Fórmula Ajustada  \n",
       "2  Fecha inicial del DrawDown de Capital  \n",
       "3    Fecha final del DrawDown de Capital  \n",
       "4     Máxima pérdida flotante registrada  \n",
       "5    Fecha inicial del DrawUp de Capital  \n",
       "6      Fecha final del DrawUp de Capital  \n",
       "7    Máxima ganancia flotante registrada  "
      ]
     },
     "execution_count": 18,
     "metadata": {},
     "output_type": "execute_result"
    }
   ],
   "source": [
    "e_desc, drawdown, drawup = f.f_estadisticas_mad(0.05,metricas)\n",
    "e_desc"
   ]
  },
  {
   "cell_type": "markdown",
   "metadata": {},
   "source": [
    "# 4. Procesos "
   ]
  },
  {
   "cell_type": "markdown",
   "metadata": {},
   "source": [
    "# Parte 1: **Estadística Descriptiva**"
   ]
  },
  {
   "cell_type": "markdown",
   "metadata": {},
   "source": [
    "# Parte 2: **Medidas de Atribución al Desempeño**"
   ]
  },
  {
   "cell_type": "markdown",
   "metadata": {},
   "source": [
    "# Parte 3: **Behavioral Finance**"
   ]
  },
  {
   "cell_type": "markdown",
   "metadata": {},
   "source": [
    "# Parte 4: **Visualizaciones**"
   ]
  },
  {
   "cell_type": "code",
   "execution_count": 7,
   "metadata": {},
   "outputs": [
    {
     "ename": "NameError",
     "evalue": "name 'e_desc' is not defined",
     "output_type": "error",
     "traceback": [
      "\u001b[1;31m---------------------------------------------------------------------------\u001b[0m",
      "\u001b[1;31mNameError\u001b[0m                                 Traceback (most recent call last)",
      "\u001b[1;32m~\\AppData\\Local\\Temp/ipykernel_13348/3058978807.py\u001b[0m in \u001b[0;36m<module>\u001b[1;34m\u001b[0m\n\u001b[1;32m----> 1\u001b[1;33m \u001b[1;32mimport\u001b[0m \u001b[0mvisualizations\u001b[0m \u001b[1;32mas\u001b[0m \u001b[0mv\u001b[0m\u001b[1;33m\u001b[0m\u001b[1;33m\u001b[0m\u001b[0m\n\u001b[0m",
      "\u001b[1;32mc:\\Users\\ariad\\OneDrive\\Documentos\\GitHub\\MyST_LAB_3\\visualizations.py\u001b[0m in \u001b[0;36m<module>\u001b[1;34m\u001b[0m\n\u001b[0;32m     13\u001b[0m     \u001b[1;32mreturn\u001b[0m \u001b[0mfig\u001b[0m\u001b[1;33m.\u001b[0m\u001b[0mshow\u001b[0m\u001b[1;33m(\u001b[0m\u001b[1;33m)\u001b[0m\u001b[1;33m\u001b[0m\u001b[1;33m\u001b[0m\u001b[0m\n\u001b[0;32m     14\u001b[0m \u001b[1;33m\u001b[0m\u001b[0m\n\u001b[1;32m---> 15\u001b[1;33m \u001b[0mdf_2_ranking\u001b[0m \u001b[1;33m=\u001b[0m \u001b[0me_desc\u001b[0m\u001b[1;33m.\u001b[0m\u001b[0mget\u001b[0m\u001b[1;33m(\u001b[0m\u001b[1;34m'df_2_ranking'\u001b[0m\u001b[1;33m)\u001b[0m\u001b[1;33m\u001b[0m\u001b[1;33m\u001b[0m\u001b[0m\n\u001b[0m",
      "\u001b[1;31mNameError\u001b[0m: name 'e_desc' is not defined"
     ]
    }
   ],
   "source": [
    "import visualizations as v"
   ]
  },
  {
   "cell_type": "code",
   "execution_count": 46,
   "metadata": {},
   "outputs": [
    {
     "name": "stdout",
     "output_type": "stream",
     "text": [
      "None\n"
     ]
    }
   ],
   "source": [
    "df_2_ranking = e_desc.get('df_2_ranking')\n",
    "print(df_2_ranking)"
   ]
  },
  {
   "cell_type": "code",
   "execution_count": 15,
   "metadata": {},
   "outputs": [],
   "source": [
    "import plotly.express as px"
   ]
  },
  {
   "cell_type": "code",
   "execution_count": 42,
   "metadata": {},
   "outputs": [
    {
     "ename": "ValueError",
     "evalue": "Value of 'values' is not the name of a column in 'data_frame'. Expected one of ['total_bill', 'tip', 'sex', 'smoker', 'day', 'time', 'size'] but received: rank (%)",
     "output_type": "error",
     "traceback": [
      "\u001b[1;31m---------------------------------------------------------------------------\u001b[0m",
      "\u001b[1;31mValueError\u001b[0m                                Traceback (most recent call last)",
      "\u001b[1;32m~\\AppData\\Local\\Temp/ipykernel_5088/3058683168.py\u001b[0m in \u001b[0;36m<module>\u001b[1;34m\u001b[0m\n\u001b[0;32m      1\u001b[0m \u001b[0mdf\u001b[0m\u001b[1;33m=\u001b[0m \u001b[0mpx\u001b[0m\u001b[1;33m.\u001b[0m\u001b[0mdata\u001b[0m\u001b[1;33m.\u001b[0m\u001b[0mtips\u001b[0m\u001b[1;33m(\u001b[0m\u001b[0mdf_2_ranking\u001b[0m\u001b[1;33m)\u001b[0m\u001b[1;33m\u001b[0m\u001b[1;33m\u001b[0m\u001b[0m\n\u001b[1;32m----> 2\u001b[1;33m \u001b[0mfig\u001b[0m\u001b[1;33m=\u001b[0m \u001b[0mpx\u001b[0m\u001b[1;33m.\u001b[0m\u001b[0mpie\u001b[0m\u001b[1;33m(\u001b[0m\u001b[0mdf\u001b[0m\u001b[1;33m,\u001b[0m \u001b[0mvalues\u001b[0m\u001b[1;33m=\u001b[0m \u001b[1;34m'rank (%)'\u001b[0m\u001b[1;33m)\u001b[0m\u001b[1;33m\u001b[0m\u001b[1;33m\u001b[0m\u001b[0m\n\u001b[0m\u001b[0;32m      3\u001b[0m \u001b[0mfig\u001b[0m\u001b[1;33m.\u001b[0m\u001b[0mshow\u001b[0m\u001b[1;33m(\u001b[0m\u001b[1;33m)\u001b[0m\u001b[1;33m\u001b[0m\u001b[1;33m\u001b[0m\u001b[0m\n",
      "\u001b[1;32m~\\AppData\\Local\\Packages\\PythonSoftwareFoundation.Python.3.9_qbz5n2kfra8p0\\LocalCache\\local-packages\\Python39\\site-packages\\plotly\\express\\_chart_types.py\u001b[0m in \u001b[0;36mpie\u001b[1;34m(data_frame, names, values, color, color_discrete_sequence, color_discrete_map, hover_name, hover_data, custom_data, labels, title, template, width, height, opacity, hole)\u001b[0m\n\u001b[0;32m   1456\u001b[0m     \u001b[1;32melse\u001b[0m\u001b[1;33m:\u001b[0m\u001b[1;33m\u001b[0m\u001b[1;33m\u001b[0m\u001b[0m\n\u001b[0;32m   1457\u001b[0m         \u001b[0mlayout_patch\u001b[0m \u001b[1;33m=\u001b[0m \u001b[1;33m{\u001b[0m\u001b[1;33m}\u001b[0m\u001b[1;33m\u001b[0m\u001b[1;33m\u001b[0m\u001b[0m\n\u001b[1;32m-> 1458\u001b[1;33m     return make_figure(\n\u001b[0m\u001b[0;32m   1459\u001b[0m         \u001b[0margs\u001b[0m\u001b[1;33m=\u001b[0m\u001b[0mlocals\u001b[0m\u001b[1;33m(\u001b[0m\u001b[1;33m)\u001b[0m\u001b[1;33m,\u001b[0m\u001b[1;33m\u001b[0m\u001b[1;33m\u001b[0m\u001b[0m\n\u001b[0;32m   1460\u001b[0m         \u001b[0mconstructor\u001b[0m\u001b[1;33m=\u001b[0m\u001b[0mgo\u001b[0m\u001b[1;33m.\u001b[0m\u001b[0mPie\u001b[0m\u001b[1;33m,\u001b[0m\u001b[1;33m\u001b[0m\u001b[1;33m\u001b[0m\u001b[0m\n",
      "\u001b[1;32m~\\AppData\\Local\\Packages\\PythonSoftwareFoundation.Python.3.9_qbz5n2kfra8p0\\LocalCache\\local-packages\\Python39\\site-packages\\plotly\\express\\_core.py\u001b[0m in \u001b[0;36mmake_figure\u001b[1;34m(args, constructor, trace_patch, layout_patch)\u001b[0m\n\u001b[0;32m   1931\u001b[0m     \u001b[0mapply_default_cascade\u001b[0m\u001b[1;33m(\u001b[0m\u001b[0margs\u001b[0m\u001b[1;33m)\u001b[0m\u001b[1;33m\u001b[0m\u001b[1;33m\u001b[0m\u001b[0m\n\u001b[0;32m   1932\u001b[0m \u001b[1;33m\u001b[0m\u001b[0m\n\u001b[1;32m-> 1933\u001b[1;33m     \u001b[0margs\u001b[0m \u001b[1;33m=\u001b[0m \u001b[0mbuild_dataframe\u001b[0m\u001b[1;33m(\u001b[0m\u001b[0margs\u001b[0m\u001b[1;33m,\u001b[0m \u001b[0mconstructor\u001b[0m\u001b[1;33m)\u001b[0m\u001b[1;33m\u001b[0m\u001b[1;33m\u001b[0m\u001b[0m\n\u001b[0m\u001b[0;32m   1934\u001b[0m     \u001b[1;32mif\u001b[0m \u001b[0mconstructor\u001b[0m \u001b[1;32min\u001b[0m \u001b[1;33m[\u001b[0m\u001b[0mgo\u001b[0m\u001b[1;33m.\u001b[0m\u001b[0mTreemap\u001b[0m\u001b[1;33m,\u001b[0m \u001b[0mgo\u001b[0m\u001b[1;33m.\u001b[0m\u001b[0mSunburst\u001b[0m\u001b[1;33m,\u001b[0m \u001b[0mgo\u001b[0m\u001b[1;33m.\u001b[0m\u001b[0mIcicle\u001b[0m\u001b[1;33m]\u001b[0m \u001b[1;32mand\u001b[0m \u001b[0margs\u001b[0m\u001b[1;33m[\u001b[0m\u001b[1;34m\"path\"\u001b[0m\u001b[1;33m]\u001b[0m \u001b[1;32mis\u001b[0m \u001b[1;32mnot\u001b[0m \u001b[1;32mNone\u001b[0m\u001b[1;33m:\u001b[0m\u001b[1;33m\u001b[0m\u001b[1;33m\u001b[0m\u001b[0m\n\u001b[0;32m   1935\u001b[0m         \u001b[0margs\u001b[0m \u001b[1;33m=\u001b[0m \u001b[0mprocess_dataframe_hierarchy\u001b[0m\u001b[1;33m(\u001b[0m\u001b[0margs\u001b[0m\u001b[1;33m)\u001b[0m\u001b[1;33m\u001b[0m\u001b[1;33m\u001b[0m\u001b[0m\n",
      "\u001b[1;32m~\\AppData\\Local\\Packages\\PythonSoftwareFoundation.Python.3.9_qbz5n2kfra8p0\\LocalCache\\local-packages\\Python39\\site-packages\\plotly\\express\\_core.py\u001b[0m in \u001b[0;36mbuild_dataframe\u001b[1;34m(args, constructor)\u001b[0m\n\u001b[0;32m   1403\u001b[0m     \u001b[1;31m# now that things have been prepped, we do the systematic rewriting of `args`\u001b[0m\u001b[1;33m\u001b[0m\u001b[1;33m\u001b[0m\u001b[0m\n\u001b[0;32m   1404\u001b[0m \u001b[1;33m\u001b[0m\u001b[0m\n\u001b[1;32m-> 1405\u001b[1;33m     df_output, wide_id_vars = process_args_into_dataframe(\n\u001b[0m\u001b[0;32m   1406\u001b[0m         \u001b[0margs\u001b[0m\u001b[1;33m,\u001b[0m \u001b[0mwide_mode\u001b[0m\u001b[1;33m,\u001b[0m \u001b[0mvar_name\u001b[0m\u001b[1;33m,\u001b[0m \u001b[0mvalue_name\u001b[0m\u001b[1;33m\u001b[0m\u001b[1;33m\u001b[0m\u001b[0m\n\u001b[0;32m   1407\u001b[0m     )\n",
      "\u001b[1;32m~\\AppData\\Local\\Packages\\PythonSoftwareFoundation.Python.3.9_qbz5n2kfra8p0\\LocalCache\\local-packages\\Python39\\site-packages\\plotly\\express\\_core.py\u001b[0m in \u001b[0;36mprocess_args_into_dataframe\u001b[1;34m(args, wide_mode, var_name, value_name)\u001b[0m\n\u001b[0;32m   1205\u001b[0m                         \u001b[1;32mif\u001b[0m \u001b[0margument\u001b[0m \u001b[1;33m==\u001b[0m \u001b[1;34m\"index\"\u001b[0m\u001b[1;33m:\u001b[0m\u001b[1;33m\u001b[0m\u001b[1;33m\u001b[0m\u001b[0m\n\u001b[0;32m   1206\u001b[0m                             \u001b[0merr_msg\u001b[0m \u001b[1;33m+=\u001b[0m \u001b[1;34m\"\\n To use the index, pass it in directly as `df.index`.\"\u001b[0m\u001b[1;33m\u001b[0m\u001b[1;33m\u001b[0m\u001b[0m\n\u001b[1;32m-> 1207\u001b[1;33m                         \u001b[1;32mraise\u001b[0m \u001b[0mValueError\u001b[0m\u001b[1;33m(\u001b[0m\u001b[0merr_msg\u001b[0m\u001b[1;33m)\u001b[0m\u001b[1;33m\u001b[0m\u001b[1;33m\u001b[0m\u001b[0m\n\u001b[0m\u001b[0;32m   1208\u001b[0m                 \u001b[1;32melif\u001b[0m \u001b[0mlength\u001b[0m \u001b[1;32mand\u001b[0m \u001b[0mlen\u001b[0m\u001b[1;33m(\u001b[0m\u001b[0mdf_input\u001b[0m\u001b[1;33m[\u001b[0m\u001b[0margument\u001b[0m\u001b[1;33m]\u001b[0m\u001b[1;33m)\u001b[0m \u001b[1;33m!=\u001b[0m \u001b[0mlength\u001b[0m\u001b[1;33m:\u001b[0m\u001b[1;33m\u001b[0m\u001b[1;33m\u001b[0m\u001b[0m\n\u001b[0;32m   1209\u001b[0m                     raise ValueError(\n",
      "\u001b[1;31mValueError\u001b[0m: Value of 'values' is not the name of a column in 'data_frame'. Expected one of ['total_bill', 'tip', 'sex', 'smoker', 'day', 'time', 'size'] but received: rank (%)"
     ]
    }
   ],
   "source": [
    "df= px.data.tips(df_2_ranking)\n",
    "fig= px.pie(df, values= 'rank (%)')\n",
    "fig.show()"
   ]
  },
  {
   "cell_type": "code",
   "execution_count": 17,
   "metadata": {},
   "outputs": [],
   "source": [
    "import matplotlib.pyplot as plt"
   ]
  },
  {
   "cell_type": "code",
   "execution_count": 19,
   "metadata": {},
   "outputs": [
    {
     "data": {
      "text/plain": [
       "(-11004.41, 11020.21)"
      ]
     },
     "execution_count": 19,
     "metadata": {},
     "output_type": "execute_result"
    }
   ],
   "source": [
    "drawdown, drawup"
   ]
  },
  {
   "cell_type": "code",
   "execution_count": 20,
   "metadata": {},
   "outputs": [
    {
     "ename": "NameError",
     "evalue": "name 'plt' is not defined",
     "output_type": "error",
     "traceback": [
      "\u001b[1;31m---------------------------------------------------------------------------\u001b[0m",
      "\u001b[1;31mNameError\u001b[0m                                 Traceback (most recent call last)",
      "\u001b[1;32m~\\AppData\\Local\\Temp/ipykernel_24736/3601839940.py\u001b[0m in \u001b[0;36m<module>\u001b[1;34m\u001b[0m\n\u001b[0;32m      2\u001b[0m \u001b[1;33m\u001b[0m\u001b[0m\n\u001b[0;32m      3\u001b[0m \u001b[1;31m# capital acumulado diario de negro\u001b[0m\u001b[1;33m\u001b[0m\u001b[1;33m\u001b[0m\u001b[0m\n\u001b[1;32m----> 4\u001b[1;33m \u001b[0mplt\u001b[0m\u001b[1;33m.\u001b[0m\u001b[0mplot\u001b[0m\u001b[1;33m(\u001b[0m\u001b[0mmetricas\u001b[0m\u001b[1;33m.\u001b[0m\u001b[0mindex\u001b[0m\u001b[1;33m,\u001b[0m \u001b[0mmetricas\u001b[0m\u001b[1;33m.\u001b[0m\u001b[0mcap_acum\u001b[0m\u001b[1;33m,\u001b[0m \u001b[1;34m'k'\u001b[0m\u001b[1;33m)\u001b[0m\u001b[1;33m\u001b[0m\u001b[1;33m\u001b[0m\u001b[0m\n\u001b[0m\u001b[0;32m      5\u001b[0m \u001b[1;31m# DrawUp linea punteada verde\u001b[0m\u001b[1;33m\u001b[0m\u001b[1;33m\u001b[0m\u001b[0m\n\u001b[0;32m      6\u001b[0m \u001b[0mplt\u001b[0m\u001b[1;33m.\u001b[0m\u001b[0mplot\u001b[0m\u001b[1;33m(\u001b[0m\u001b[0mdrawup\u001b[0m\u001b[1;33m,\u001b[0m\u001b[1;34m'*g'\u001b[0m\u001b[1;33m)\u001b[0m\u001b[1;33m\u001b[0m\u001b[1;33m\u001b[0m\u001b[0m\n",
      "\u001b[1;31mNameError\u001b[0m: name 'plt' is not defined"
     ]
    }
   ],
   "source": [
    "# gráfica 2: DrawDown y DrawUp\n",
    "\n",
    "# capital acumulado diario de negro\n",
    "plt.plot(metricas.index, metricas.cap_acum, 'k')\n",
    "# DrawUp linea punteada verde\n",
    "plt.plot(drawup,'*g')\n",
    "# DrawDown linea punteada roja \n",
    "\n",
    "plt.xticks(rotation=90)\n",
    "plt.ylabel('($)')\n",
    "plt.grid()"
   ]
  },
  {
   "cell_type": "markdown",
   "metadata": {},
   "source": []
  },
  {
   "cell_type": "markdown",
   "metadata": {},
   "source": [
    "# 5. Conclusiones"
   ]
  },
  {
   "cell_type": "markdown",
   "metadata": {},
   "source": [
    "## Bibliografía\n",
    "\n",
    "* https://pandas.pydata.org/docs/user_guide/merging.html\n",
    "* https://www.kite.com/python/answers/how-to-rotate-axis-labels-in-matplotlib-in-python "
   ]
  },
  {
   "cell_type": "markdown",
   "metadata": {},
   "source": []
  }
 ],
 "metadata": {
  "interpreter": {
   "hash": "abdc4820472cfc979889a362b5be266413b844e4381fcdf1f00e9719e3593518"
  },
  "kernelspec": {
   "display_name": "Python 3.9.7 64-bit (windows store)",
   "name": "python3"
  },
  "language_info": {
   "codemirror_mode": {
    "name": "ipython",
    "version": 3
   },
   "file_extension": ".py",
   "mimetype": "text/x-python",
   "name": "python",
   "nbconvert_exporter": "python",
   "pygments_lexer": "ipython3",
   "version": "3.9.7"
  },
  "orig_nbformat": 4
 },
 "nbformat": 4,
 "nbformat_minor": 2
}
